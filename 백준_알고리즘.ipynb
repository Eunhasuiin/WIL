{
  "nbformat": 4,
  "nbformat_minor": 0,
  "metadata": {
    "colab": {
      "provenance": [],
      "authorship_tag": "ABX9TyMb6/nTozQC8BTvCGACIR2S",
      "include_colab_link": true
    },
    "kernelspec": {
      "name": "python3",
      "display_name": "Python 3"
    },
    "language_info": {
      "name": "python"
    }
  },
  "cells": [
    {
      "cell_type": "markdown",
      "metadata": {
        "id": "view-in-github",
        "colab_type": "text"
      },
      "source": [
        "<a href=\"https://colab.research.google.com/github/Eunhasuiin/WIL/blob/algorithm/%EB%B0%B1%EC%A4%80_%EC%95%8C%EA%B3%A0%EB%A6%AC%EC%A6%98.ipynb\" target=\"_parent\"><img src=\"https://colab.research.google.com/assets/colab-badge.svg\" alt=\"Open In Colab\"/></a>"
      ]
    },
    {
      "cell_type": "markdown",
      "source": [
        "#1268 임시 반장 정하기"
      ],
      "metadata": {
        "id": "LKRPSSilX7uL"
      }
    },
    {
      "cell_type": "code",
      "execution_count": null,
      "metadata": {
        "colab": {
          "base_uri": "https://localhost:8080/"
        },
        "id": "OMNKz3K-W0-e",
        "outputId": "d058783b-013f-4654-871b-2f8ebd856145"
      },
      "outputs": [
        {
          "output_type": "stream",
          "name": "stdout",
          "text": [
            "5\n",
            "4\n"
          ]
        }
      ],
      "source": [
        "a=int(input())\n",
        "data=[]\n",
        "D=[]\n",
        "res=0\n",
        "temp=0\n",
        "grade=0\n",
        "\n",
        "for _ in range(a):data.append(list(map(int,input().split()))) #각 학생의 번호 뽑기\n",
        "person=[[] for _ in range(a)]\n",
        "\n",
        "for i in range(5): #n학년때 학생의 반\n",
        "    for j in range(a):   D.append(data[j][grade]) # 열 추출기\n",
        "    while D: #각각의 학생 선택\n",
        "        now=D.pop(0)\n",
        "        student=a-len(D)-1\n",
        "        for k in range(len(D)): #현 학생 번호\n",
        "            if now != D[k]: continue\n",
        "            person[student].append(student+k+1)\n",
        "            person[student+k+1].append(student)\n",
        "    grade+=1\n",
        "  \n",
        "\n",
        "for i in range(len(person)):\n",
        "  if temp < len(set(person[i])): \n",
        "    temp=len(set(person[i]))\n",
        "    res=i\n",
        "\n",
        "print(res+1) #-> max"
      ]
    },
    {
      "cell_type": "code",
      "source": [
        "a=int(input())\n",
        "data=[]\n",
        "D=[]\n",
        "grade=0\n",
        "\n",
        "for i in range(a):data.append(list(map(int,input().split()))) #각 학생의 번호 뽑기\n",
        "person=[[0 for _ in range(a)] for _ in range(a)]\n",
        "\n",
        "for i in range(5): #n학년때 학생의 반\n",
        "    for j in range(a):   D.append(data[j][grade]) # 열 추출기\n",
        "    while D: #각각의 학생 선택\n",
        "        now=D.pop(0)\n",
        "        student=a-len(D)-1\n",
        "        for k in range(len(D)): #현 학생 번호\n",
        "            if now != D[k]: continue\n",
        "            person[student][student+k+1]=1\n",
        "            person[student+k+1][student]=1\n",
        "    grade+=1\n",
        "  \n",
        "\n",
        "\n",
        "res=[]\n",
        "for i in person: res.append(i.count(1))\n",
        "print(res.index(max(res))+1)"
      ],
      "metadata": {
        "id": "nyo7zn3HSL0O"
      },
      "execution_count": null,
      "outputs": []
    },
    {
      "cell_type": "code",
      "source": [
        "a=int(input()) #str -> int\n",
        "data=[]\n",
        "for _ in range(a): \n",
        "    temp=list(map(int,input().split()))\n",
        "    data.append(temp) #str -> int\n",
        "\n",
        "person=[[] for _ in range(a)]\n",
        "\n",
        "for k in range(5): #n학년\n",
        "    for j in range(a): #현 학생\n",
        "        for i in range(j+1, a): #같은 반 학생은 누구인가\n",
        "            if data[i][k] != data[j][k]: continue #c\n",
        "            person[j].append(i)#c\n",
        "            person[i].append(j)#c\n",
        "\n",
        "            \n",
        "temp=0\n",
        "res=0\n",
        "for i in range(len(person)):\n",
        "  if temp < len(set(person[i])): \n",
        "    temp= len(set(person[i]))\n",
        "    res=i\n",
        "\n",
        "print(res+1)"
      ],
      "metadata": {
        "id": "4gkwjygySKaC"
      },
      "execution_count": null,
      "outputs": []
    },
    {
      "cell_type": "markdown",
      "source": [
        "# 1647 도시 분할 계획"
      ],
      "metadata": {
        "id": "wT0tsIfx2WD1"
      }
    },
    {
      "cell_type": "code",
      "source": [
        "import sys\n",
        "input = sys.stdin.readline\n",
        "\n",
        "def find(x):\n",
        "    if x!=parent[x]: parent[x]=find(parent[x])\n",
        "    return parent[x]\n",
        "\n",
        "def union_(a, b):\n",
        "    a=find(a)\n",
        "    b=find(b)\n",
        "    if a==b: \n",
        "        return\n",
        "    if rank[a] > rank[b]: \n",
        "        parent[b] = a\n",
        "    elif rank[a] < rank[b]: \n",
        "        parent[a] = b\n",
        "    else:\n",
        "        parent[a]=b\n",
        "        rank[b]+=1\n",
        "\n",
        "n, m = map(int, input().split())\n",
        "roads= []\n",
        "parent = [i for i in range(n+1)]\n",
        "rank=[0]*(n+1)\n",
        "\n",
        "for _ in range(m): \n",
        "    a,b,cost=map(int,input().split())\n",
        "    roads.append((a,b,cost))\n",
        "\n",
        "roads.sort(key=lambda data : data[2])\n",
        "result=0\n",
        "cost=0\n",
        "for i in roads:\n",
        "    if find(i[0]) != find(i[1]):\n",
        "        union_(i[0],i[1])\n",
        "        result+=i[2]\n",
        "        cost=i[2]\n",
        "\n",
        "        \n",
        "print(result-cost)"
      ],
      "metadata": {
        "id": "8R-LgyI12aLX"
      },
      "execution_count": null,
      "outputs": []
    },
    {
      "cell_type": "code",
      "source": [
        "import sys\n",
        "input = sys.stdin.readline\n",
        "\n",
        "def find_parent(x):\n",
        "    if parent[x]!=x: parent[x] = find_parent(parent[x])\n",
        "    return parent[x]\n",
        "\n",
        "def union_parent(a, b):\n",
        "    a=find_parent(a)\n",
        "    b=find_parent(b)\n",
        "    if a==b: return\n",
        "    if rank[a] < rank[b]: parent[b]=a\n",
        "    elif rank[a] > rank[b]: parent[a]=b\n",
        "    else:\n",
        "      parent[a]=b\n",
        "      rank[b]+=1\n",
        "\n",
        "n, m = map(int, input().split())\n",
        "roads= []\n",
        "parent = [i for i in range(n+1)]\n",
        "rank=[0]*(n+1)\n",
        "\n",
        "for _ in range(m): roads.append(tuple(map(int,input().split())))\n",
        "\n",
        "roads.sort(key=lambda data : data[2])\n",
        "result=0\n",
        "cost=0\n",
        "for i in roads:\n",
        "    if find_parent(i[0]) != find_parent(i[1]):\n",
        "        union_parent(i[0],i[1])\n",
        "        result+=i[2]\n",
        "        cost=i[2]\n",
        "\n",
        "        \n",
        "print(result-cost)"
      ],
      "metadata": {
        "id": "3BxMeagw2cmY"
      },
      "execution_count": null,
      "outputs": []
    },
    {
      "cell_type": "code",
      "source": [
        "import sys\n",
        "\n",
        "input = sys.stdin.readline\n",
        "\n",
        "\n",
        "def find(x):\n",
        "    if x != parent[x]:\n",
        "        parent[x] = find(parent[x])\n",
        "    return parent[x]\n",
        "\n",
        "\n",
        "def union_(a, b):\n",
        "    a = find(a)\n",
        "    b = find(b)\n",
        "\n",
        "    # 이미 부모가 같다면 리턴\n",
        "    if a == b:\n",
        "        return\n",
        "\n",
        "    if rank[a] > rank[b]:\n",
        "        parent[b] = a\n",
        "    elif rank[a] < rank[b]:\n",
        "        parent[a] = b\n",
        "    else:\n",
        "        parent[a] = b\n",
        "        rank[b] += 1\n",
        "\n",
        "\n",
        "N, M = map(int, input().split())\n",
        "\n",
        "graph = []\n",
        "parent = [i for i in range(N + 1)]  # 부모를 저장\n",
        "rank = [0] * (N + 1)  # 각 노드마다 랭크를 저장\n",
        "for i in range(M):\n",
        "    a, b, cost = map(int, input().split())\n",
        "    graph.append((a, b, cost))\n",
        "\n",
        "graph.sort(key=lambda x: x[2])  # 마을의 비용을 오름차순으로 정렬\n",
        "ans = 0  # 연결된 마을 길이의 합\n",
        "end_v = 0  # 마지막에 연결된 마을 길이를 저장\n",
        "for i in graph:\n",
        "\n",
        "    if find(i[0]) != find(i[1]):\n",
        "        union_(i[0], i[1])\n",
        "        ans += i[2]  # 마을의 연결 비용들을 계속 더해주고\n",
        "        end_v = i[2]  # 마지막에 연결된 마을 연결 비용을 저장\n",
        "\n",
        "print(ans - end_v)  # 마지막에 연결된 연결 비용만 빼준 체 출력"
      ],
      "metadata": {
        "id": "JbAwJcxp2iMg"
      },
      "execution_count": null,
      "outputs": []
    }
  ]
}