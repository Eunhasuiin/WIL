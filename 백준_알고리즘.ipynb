{
  "nbformat": 4,
  "nbformat_minor": 0,
  "metadata": {
    "colab": {
      "provenance": []
    },
    "kernelspec": {
      "name": "python3",
      "display_name": "Python 3"
    },
    "language_info": {
      "name": "python"
    }
  },
  "cells": [
    {
      "cell_type": "markdown",
      "source": [
        "#1268 임시 반장 정하기"
      ],
      "metadata": {
        "id": "LKRPSSilX7uL"
      }
    },
    {
      "cell_type": "code",
      "execution_count": null,
      "metadata": {
        "colab": {
          "base_uri": "https://localhost:8080/"
        },
        "id": "OMNKz3K-W0-e",
        "outputId": "d058783b-013f-4654-871b-2f8ebd856145"
      },
      "outputs": [
        {
          "output_type": "stream",
          "name": "stdout",
          "text": [
            "5\n",
            "4\n"
          ]
        }
      ],
      "source": [
        "a=int(input())\n",
        "data=[]\n",
        "D=[]\n",
        "res=0\n",
        "temp=0\n",
        "grade=0\n",
        "\n",
        "for _ in range(a):data.append(list(map(int,input().split()))) #각 학생의 번호 뽑기\n",
        "person=[[] for _ in range(a)]\n",
        "\n",
        "for i in range(5): #n학년때 학생의 반\n",
        "    for j in range(a):   D.append(data[j][grade]) # 열 추출기\n",
        "    while D: #각각의 학생 선택\n",
        "        now=D.pop(0)\n",
        "        student=a-len(D)-1\n",
        "        for k in range(len(D)): #현 학생 번호\n",
        "            if now != D[k]: continue\n",
        "            person[student].append(student+k+1)\n",
        "            person[student+k+1].append(student)\n",
        "    grade+=1\n",
        "\n",
        "\n",
        "for i in range(len(person)):\n",
        "  if temp < len(set(person[i])):\n",
        "    temp=len(set(person[i]))\n",
        "    res=i\n",
        "\n",
        "print(res+1) #-> max"
      ]
    },
    {
      "cell_type": "code",
      "source": [
        "a=int(input())\n",
        "data=[]\n",
        "D=[]\n",
        "grade=0\n",
        "\n",
        "for i in range(a):data.append(list(map(int,input().split()))) #각 학생의 번호 뽑기\n",
        "person=[[0 for _ in range(a)] for _ in range(a)]\n",
        "\n",
        "for i in range(5): #n학년때 학생의 반\n",
        "    for j in range(a):   D.append(data[j][grade]) # 열 추출기\n",
        "    while D: #각각의 학생 선택\n",
        "        now=D.pop(0)\n",
        "        student=a-len(D)-1\n",
        "        for k in range(len(D)): #현 학생 번호\n",
        "            if now != D[k]: continue\n",
        "            person[student][student+k+1]=1\n",
        "            person[student+k+1][student]=1\n",
        "    grade+=1\n",
        "\n",
        "\n",
        "\n",
        "res=[]\n",
        "for i in person: res.append(i.count(1))\n",
        "print(res.index(max(res))+1)"
      ],
      "metadata": {
        "id": "nyo7zn3HSL0O"
      },
      "execution_count": null,
      "outputs": []
    },
    {
      "cell_type": "code",
      "source": [
        "a=int(input()) #str -> int\n",
        "data=[]\n",
        "for _ in range(a):\n",
        "    temp=list(map(int,input().split()))\n",
        "    data.append(temp) #str -> int\n",
        "\n",
        "person=[[] for _ in range(a)]\n",
        "\n",
        "for k in range(5): #n학년\n",
        "    for j in range(a): #현 학생\n",
        "        for i in range(j+1, a): #같은 반 학생은 누구인가\n",
        "            if data[i][k] != data[j][k]: continue #c\n",
        "            person[j].append(i)#c\n",
        "            person[i].append(j)#c\n",
        "\n",
        "\n",
        "temp=0\n",
        "res=0\n",
        "for i in range(len(person)):\n",
        "  if temp < len(set(person[i])):\n",
        "    temp= len(set(person[i]))\n",
        "    res=i\n",
        "\n",
        "print(res+1)"
      ],
      "metadata": {
        "id": "4gkwjygySKaC"
      },
      "execution_count": null,
      "outputs": []
    },
    {
      "cell_type": "markdown",
      "source": [
        "# 1647 도시 분할 계획"
      ],
      "metadata": {
        "id": "wT0tsIfx2WD1"
      }
    },
    {
      "cell_type": "code",
      "source": [
        "import sys\n",
        "input = sys.stdin.readline\n",
        "\n",
        "def find(x):\n",
        "    if x!=parent[x]: parent[x]=find(parent[x])\n",
        "    return parent[x]\n",
        "\n",
        "def union_(a, b):\n",
        "    a=find(a)\n",
        "    b=find(b)\n",
        "    if a==b:\n",
        "        return\n",
        "    if rank[a] > rank[b]:\n",
        "        parent[b] = a\n",
        "    elif rank[a] < rank[b]:\n",
        "        parent[a] = b\n",
        "    else:\n",
        "        parent[a]=b\n",
        "        rank[b]+=1\n",
        "\n",
        "n, m = map(int, input().split())\n",
        "roads= []\n",
        "parent = [i for i in range(n+1)]\n",
        "rank=[0]*(n+1)\n",
        "\n",
        "for _ in range(m):\n",
        "    a,b,cost=map(int,input().split())\n",
        "    roads.append((a,b,cost))\n",
        "\n",
        "roads.sort(key=lambda data : data[2])\n",
        "result=0\n",
        "cost=0\n",
        "for i in roads:\n",
        "    if find(i[0]) != find(i[1]):\n",
        "        union_(i[0],i[1])\n",
        "        result+=i[2]\n",
        "        cost=i[2]\n",
        "\n",
        "\n",
        "print(result-cost)"
      ],
      "metadata": {
        "id": "8R-LgyI12aLX"
      },
      "execution_count": null,
      "outputs": []
    },
    {
      "cell_type": "code",
      "source": [
        "def union_parent(a, b):\n",
        "    a=find_parent(a)\n",
        "    b=find_parent(b)\n",
        "    if a==b: return\n",
        "    if rank[a] < rank[b]: parent[b]=a\n",
        "    elif rank[a] > rank[b]: parent[a]=b\n",
        "    else:\n",
        "      parent[a]=b\n",
        "      rank[b]+=1\n",
        "\n",
        "n, m = map(int, input().split())\n",
        "roads= []\n",
        "parent = [i for i in range(n+1)]\n",
        "rank=[0]*(n+1)\n",
        "\n",
        "for _ in range(m): roads.append(tuple(map(int,input().split())))\n",
        "\n",
        "roads.sort(key=lambda data : data[2])\n",
        "result=0\n",
        "cost=0\n",
        "for i in roads:\n",
        "    if find_parent(i[0]) != find_parent(i[1]):\n",
        "        union_parent(i[0],i[1])\n",
        "        result+=i[2]\n",
        "        cost=i[2]\n",
        "\n",
        "\n",
        "print(result-cost)"
      ],
      "metadata": {
        "id": "3BxMeagw2cmY"
      },
      "execution_count": null,
      "outputs": []
    },
    {
      "cell_type": "code",
      "source": [
        "n, m = map(int, input().split())\n",
        "roads= []\n",
        "parent = [i for i in range(n+1)]\n",
        "rank=[0]*(n+1)\n",
        "\n",
        "for _ in range(m): roads.append(tuple(map(int,input().split())))\n",
        "\n",
        "roads.sort(key=lambda data : data[2])\n",
        "result=0\n",
        "cost=0\n",
        "for i in roads:\n",
        "    if find_parent(i[0]) != find_parent(i[1]):\n",
        "        union_parent(i[0],i[1])\n",
        "        result+=i[2]\n",
        "        cost=i[2]\n",
        "\n",
        "\n",
        "print(result-cost)"
      ],
      "metadata": {
        "id": "Xk5cot_ZE3Qw"
      },
      "execution_count": null,
      "outputs": []
    },
    {
      "cell_type": "code",
      "source": [
        "n, m = map(int, input().split())\n",
        "roads= []\n",
        "parent = [i for i in range(n+1)]\n",
        "rank=[0]*(n+1)\n",
        "\n",
        "for _ in range(m): roads.append(tuple(map(int,input().split())))\n",
        "\n",
        "roads.sort(key=lambda data : data[2])\n",
        "result=0\n",
        "cost=0\n",
        "for i in roads:\n",
        "    if find_parent(i[0]) != find_parent(i[1]):\n",
        "        union_parent(i[0],i[1])\n",
        "        result+=i[2]\n",
        "        cost=i[2]\n",
        "\n",
        "\n",
        "print(result-cost)"
      ],
      "metadata": {
        "id": "8AvCbaF_E5Q-"
      },
      "execution_count": null,
      "outputs": []
    },
    {
      "cell_type": "code",
      "source": [
        "import sys\n",
        "\n",
        "input = sys.stdin.readline\n",
        "\n",
        "\n",
        "def find(x):\n",
        "    if x != parent[x]:\n",
        "        parent[x] = find(parent[x])\n",
        "    return parent[x]\n",
        "\n",
        "\n",
        "def union_(a, b):\n",
        "    a = find(a)\n",
        "    b = find(b)\n",
        "\n",
        "    # 이미 부모가 같다면 리턴\n",
        "    if a == b:\n",
        "        return\n",
        "\n",
        "    if rank[a] > rank[b]:\n",
        "        parent[b] = a\n",
        "    elif rank[a] < rank[b]:\n",
        "        parent[a] = b\n",
        "    else:\n",
        "        parent[a] = b\n",
        "        rank[b] += 1\n",
        "\n",
        "\n",
        "N, M = map(int, input().split())\n",
        "\n",
        "graph = []\n",
        "parent = [i for i in range(N + 1)]  # 부모를 저장\n",
        "rank = [0] * (N + 1)  # 각 노드마다 랭크를 저장\n",
        "for i in range(M):\n",
        "    a, b, cost = map(int, input().split())\n",
        "    graph.append((a, b, cost))\n",
        "\n",
        "graph.sort(key=lambda x: x[2])  # 마을의 비용을 오름차순으로 정렬\n",
        "ans = 0  # 연결된 마을 길이의 합\n",
        "end_v = 0  # 마지막에 연결된 마을 길이를 저장\n",
        "for i in graph:\n",
        "\n",
        "    if find(i[0]) != find(i[1]):\n",
        "        union_(i[0], i[1])\n",
        "        ans += i[2]  # 마을의 연결 비용들을 계속 더해주고\n",
        "        end_v = i[2]  # 마지막에 연결된 마을 연결 비용을 저장\n",
        "\n",
        "print(ans - end_v)  # 마지막에 연결된 연결 비용만 빼준 체 출력"
      ],
      "metadata": {
        "id": "JbAwJcxp2iMg"
      },
      "execution_count": null,
      "outputs": []
    },
    {
      "cell_type": "markdown",
      "source": [
        "#23899 알고리즘 수업 - 선택 정렬 5"
      ],
      "metadata": {
        "id": "VapPmuRcMF92"
      }
    },
    {
      "cell_type": "code",
      "source": [
        "L=int(input())\n",
        "array_1=list(map(int, input().split()))\n",
        "array_2=list(map(int, input().split()))\n",
        "\n",
        "decide=True\n",
        "#최대 실행 시간 n*10^18\n",
        "while decide:\n",
        "\n",
        "  temp=0\n",
        "  for i in range(len(array_1)): #다른 부분이 하나라도 등장하면\n",
        "    if array_1[i] != array_2[i]:break\n",
        "    temp+=1\n",
        "    if temp == len(array_1): decide=False"
      ],
      "metadata": {
        "id": "AjWW6eJ2MIKU"
      },
      "execution_count": null,
      "outputs": []
    },
    {
      "cell_type": "code",
      "source": [
        "sys.setrecursionlimit(10**6)\n",
        "\n",
        "def select_1(arr_1, arr_2):\n",
        "  if arr_1[:-1] == arr_2[:-1]:  return 1\n",
        "  p=max(arr_1)\n",
        "  if arr_1[-1] != p: #크기 비교 및 교환\n",
        "    arr_1[arr_1.index(p)] = arr_1[-1]\n",
        "    arr_1[-1] = p\n",
        "\n",
        "  if len(arr_1[:-1]) == 0 and arr_1[-1] == arr_2[-1]: return 1 #다음 길이가 0인 경우 + 마지막 친구까지 같으면 종료\n",
        "  elif arr_1[-1] != arr_2[-1]:  return 0  #다른 케이스가 하나라도 발견되면\n",
        "  else: return select_1(arr_1[:-1], arr_2[:-1]) #같으면 앞쪽도 확인 필요\n",
        "\n",
        "L=int(input())\n",
        "array_1=list(map(int, input().split()))\n",
        "array_2=list(map(int, input().split()))\n",
        "\n",
        "select_1(array_1, array_2)"
      ],
      "metadata": {
        "colab": {
          "base_uri": "https://localhost:8080/"
        },
        "id": "3svDy9EnMQpV",
        "outputId": "7aa6d1fb-8ece-40da-aa20-c9c86bd878a3"
      },
      "execution_count": null,
      "outputs": [
        {
          "output_type": "execute_result",
          "data": {
            "text/plain": [
              "0"
            ]
          },
          "metadata": {},
          "execution_count": 39
        }
      ]
    },
    {
      "cell_type": "code",
      "source": [
        "\n",
        "\n",
        "def select(a, b):\n",
        "  if a[:-1] == b[:-1]:  return 1\n",
        "  p=max(b)\n",
        "  if a[-1] != p: #크기 비교 및 교환\n",
        "    a[a.index(p)] = a[-1]\n",
        "    a[-1] = p\n",
        "\n",
        "  if len(a[:-1]) == 0 and a[-1] == b[-1]: return 1 #다음 길이가 0인 경우 + 마지막 친구까지 같으면 종료\n",
        "  elif a[-1] != b[-1]:  return 0  #다른 케이스가 하나라도 발견되면\n",
        "  else: return select(a[:-1], b[:-1]) #같으면 앞쪽도 확인 필요\n",
        "\n",
        "#L=int(input())\n",
        "#c=list(map(int, input().split()))\n",
        "#d=list(map(int, input().split()))\n",
        "\n",
        "c=[2,3,1,10,50,23]\n",
        "d= [23, 3, 1, 50 ,10,2]\n",
        "\n",
        "select(c, d)"
      ],
      "metadata": {
        "colab": {
          "base_uri": "https://localhost:8080/"
        },
        "id": "mYJzbfSRZjjj",
        "outputId": "06d31ed8-bed3-40e6-9a4d-e2cf047e2ec4"
      },
      "execution_count": null,
      "outputs": [
        {
          "output_type": "execute_result",
          "data": {
            "text/plain": [
              "0"
            ]
          },
          "metadata": {},
          "execution_count": 44
        }
      ]
    },
    {
      "cell_type": "code",
      "source": [
        "\n",
        "def select(array):\n",
        "  print(array)\n",
        "  if len(array) == 0: return array\n",
        "  pivot=max(array)\n",
        "  if array[-1] != pivot: #크기 비교 및 교환\n",
        "    array[array.index(pivot)] = array[-1]\n",
        "    array[-1] = pivot\n",
        "\n",
        "\n",
        "  res = select(array[:-1])\n",
        "  array[:len(res)] = res\n",
        "  return array\n",
        "\n",
        "array_1=[3,1,2,5,4]\n",
        "select(array_1)"
      ],
      "metadata": {
        "colab": {
          "base_uri": "https://localhost:8080/"
        },
        "id": "f2fmVotcUa1c",
        "outputId": "bd7b89a7-32fb-4d87-de89-c852a9fe7746"
      },
      "execution_count": null,
      "outputs": [
        {
          "output_type": "stream",
          "name": "stdout",
          "text": [
            "[3, 1, 2, 5, 4]\n",
            "[3, 1, 2, 4]\n",
            "[3, 1, 2]\n",
            "[2, 1]\n",
            "[1]\n",
            "[]\n"
          ]
        },
        {
          "output_type": "execute_result",
          "data": {
            "text/plain": [
              "[1, 2, 3, 4, 5]"
            ]
          },
          "metadata": {},
          "execution_count": 25
        }
      ]
    },
    {
      "cell_type": "code",
      "source": [
        "max([3,2,1])"
      ],
      "metadata": {
        "colab": {
          "base_uri": "https://localhost:8080/"
        },
        "id": "la64zX2IWHHi",
        "outputId": "983091fb-e459-4c55-f824-6754ad0ad0fb"
      },
      "execution_count": null,
      "outputs": [
        {
          "output_type": "execute_result",
          "data": {
            "text/plain": [
              "3"
            ]
          },
          "metadata": {},
          "execution_count": 21
        }
      ]
    },
    {
      "cell_type": "code",
      "source": [],
      "metadata": {
        "colab": {
          "base_uri": "https://localhost:8080/",
          "height": 303
        },
        "id": "vZYjulu-Ot8C",
        "outputId": "fb2ed3cf-fa89-493e-e729-6e38ca87a7f0"
      },
      "execution_count": null,
      "outputs": [
        {
          "output_type": "stream",
          "name": "stdout",
          "text": [
            "1\n"
          ]
        },
        {
          "output_type": "error",
          "ename": "TypeError",
          "evalue": "ignored",
          "traceback": [
            "\u001b[0;31m---------------------------------------------------------------------------\u001b[0m",
            "\u001b[0;31mTypeError\u001b[0m                                 Traceback (most recent call last)",
            "\u001b[0;32m<ipython-input-29-8ec11be2a936>\u001b[0m in \u001b[0;36m<cell line: 5>\u001b[0;34m()\u001b[0m\n\u001b[1;32m      3\u001b[0m \u001b[0marray_2\u001b[0m\u001b[0;34m=\u001b[0m\u001b[0;34m[\u001b[0m\u001b[0;36m2\u001b[0m\u001b[0;34m,\u001b[0m\u001b[0;36m1\u001b[0m\u001b[0;34m,\u001b[0m\u001b[0;36m3\u001b[0m\u001b[0;34m,\u001b[0m\u001b[0;36m4\u001b[0m\u001b[0;34m,\u001b[0m\u001b[0;36m5\u001b[0m\u001b[0;34m]\u001b[0m\u001b[0;34m\u001b[0m\u001b[0;34m\u001b[0m\u001b[0m\n\u001b[1;32m      4\u001b[0m \u001b[0;34m\u001b[0m\u001b[0m\n\u001b[0;32m----> 5\u001b[0;31m \u001b[0mselect\u001b[0m\u001b[0;34m(\u001b[0m\u001b[0marray_1\u001b[0m\u001b[0;34m,\u001b[0m \u001b[0marray_2\u001b[0m\u001b[0;34m)\u001b[0m\u001b[0;34m\u001b[0m\u001b[0;34m\u001b[0m\u001b[0m\n\u001b[0m",
            "\u001b[0;32m<ipython-input-28-90624a601b31>\u001b[0m in \u001b[0;36mselect\u001b[0;34m(array, compare)\u001b[0m\n\u001b[1;32m     12\u001b[0m   \u001b[0;32melse\u001b[0m\u001b[0;34m:\u001b[0m\u001b[0;34m\u001b[0m\u001b[0;34m\u001b[0m\u001b[0m\n\u001b[1;32m     13\u001b[0m     \u001b[0mprint\u001b[0m\u001b[0;34m(\u001b[0m\u001b[0;36m1\u001b[0m\u001b[0;34m)\u001b[0m\u001b[0;34m\u001b[0m\u001b[0;34m\u001b[0m\u001b[0m\n\u001b[0;32m---> 14\u001b[0;31m     \u001b[0;32mreturn\u001b[0m \u001b[0mselect\u001b[0m\u001b[0;34m(\u001b[0m\u001b[0marray\u001b[0m\u001b[0;34m[\u001b[0m\u001b[0;34m:\u001b[0m\u001b[0;34m-\u001b[0m\u001b[0;36m1\u001b[0m\u001b[0;34m]\u001b[0m\u001b[0;34m)\u001b[0m \u001b[0;31m#같으면 앞쪽도 확인 필요\u001b[0m\u001b[0;34m\u001b[0m\u001b[0;34m\u001b[0m\u001b[0m\n\u001b[0m",
            "\u001b[0;31mTypeError\u001b[0m: select() missing 1 required positional argument: 'compare'"
          ]
        }
      ]
    },
    {
      "cell_type": "markdown",
      "source": [
        "#23881 알고리즘 수업 - 선택 정렬1"
      ],
      "metadata": {
        "id": "s1dWx2tVtFP9"
      }
    },
    {
      "cell_type": "code",
      "source": [
        "import sys\n",
        "sys.setrecursionlimit(10**6) #없으면 재귀 깊이 초과로 에러뜹니다\n",
        "_,k=map(int, input().split())\n",
        "data=list(map(int, input().split()))\n",
        "\n",
        "def selection_sort(data, k,cnt = 0):\n",
        "  pivot=max(data)\n",
        "  temp=data[-1]\n",
        "  if temp != pivot: #만약 제일 큰 수가 제일 뒤에 있지 않다면\n",
        "    data[data.index(pivot)] = temp\n",
        "    data[-1] = pivot\n",
        "    cnt+=1\n",
        "\n",
        "  if cnt == k: #우리가 타겟한 변경 횟수에 도달했을 때, 교환이 성립된 순간\n",
        "    print(\"{} {}\".format(temp, pivot))\n",
        "    return 0\n",
        "  if len(data[:-1]) == 1:\n",
        "    print(-1)\n",
        "    return 0\n",
        "\n",
        "  selection_sort(data[:-1],k,cnt)\n",
        "\n",
        "selection_sort(data, k)"
      ],
      "metadata": {
        "colab": {
          "base_uri": "https://localhost:8080/"
        },
        "id": "-so-sWhZtE9B",
        "outputId": "7007a5cc-9a82-497b-a4c4-0a8285043881"
      },
      "execution_count": null,
      "outputs": [
        {
          "output_type": "stream",
          "name": "stdout",
          "text": [
            "5 2\n",
            "3 1 2 5 4\n",
            "2 3\n"
          ]
        }
      ]
    },
    {
      "cell_type": "code",
      "source": [
        "def select(List):\n",
        "  pivot = min(List)\n",
        "  if List[0] > pivot: #자리를 바꿔주는 메소드\n",
        "    List[List.index(pivot)] = List[0]\n",
        "    List[0] = pivot\n",
        "  if len(List) == 2: return List\n",
        "  temp=select(List[1:])\n",
        "  List[(len(List)-len(temp)):]=temp\n",
        "  return List\n",
        "\n",
        "select([3,1,2,4,6,5])"
      ],
      "metadata": {
        "colab": {
          "base_uri": "https://localhost:8080/"
        },
        "id": "lKA4nMGKO8SK",
        "outputId": "3d969531-f6a3-4252-aeac-e71d23fa25fb"
      },
      "execution_count": null,
      "outputs": [
        {
          "output_type": "execute_result",
          "data": {
            "text/plain": [
              "[1, 2, 3, 4, 5, 6]"
            ]
          },
          "metadata": {},
          "execution_count": 51
        }
      ]
    },
    {
      "cell_type": "markdown",
      "source": [
        "#23882 알고리즘 수업 - 선택 정렬 2"
      ],
      "metadata": {
        "id": "7SzYdQMNeDzZ"
      }
    },
    {
      "cell_type": "code",
      "source": [
        "import sys\n",
        "sys.setrecursionlimit(10**6)\n",
        "def select(List,k,cnt=0):\n",
        "  pivot = max(List)\n",
        "  if List[-1] != pivot: #교환하는 알고리즘\n",
        "    List[-1], List[List.index(pivot)] = pivot, List[-1]\n",
        "    cnt += 1\n",
        "  if cnt == k: return List\n",
        "  elif len(List) <= 2: return -1\n",
        "  temp=select(List[:-1],  k, cnt)\n",
        "  if temp == -1: return -1\n",
        "  else:\n",
        "    List[:len(temp)] = temp\n",
        "    return List\n",
        "\n",
        "n, k= 5, 3\n",
        "data=[3,1,2,5,7,6,4]\n",
        "print(select(data,k))"
      ],
      "metadata": {
        "colab": {
          "base_uri": "https://localhost:8080/"
        },
        "id": "8b1qzKXQeHp4",
        "outputId": "962eb3fc-265f-4a7d-921b-7f62de617852"
      },
      "execution_count": null,
      "outputs": [
        {
          "output_type": "stream",
          "name": "stdout",
          "text": [
            "[2, 1, 3, 4, 5, 6, 7]\n"
          ]
        }
      ]
    },
    {
      "cell_type": "code",
      "source": [
        "import sys\n",
        "sys.setrecursionlimit(10**6)#없으면 재귀 깊이 초과로 에러뜹니다\n",
        "\n",
        "def select(List,k,cnt=0):\n",
        "  pivot = max(List)\n",
        "  if List[-1] != pivot: #교환하는 부분\n",
        "    List[-1], List[List.index(pivot)] = pivot, List[-1]\n",
        "    cnt += 1\n",
        "\n",
        "  if cnt == k: return List #임계치에 도달하면 리스트 반환\n",
        "  elif len(List) <= 2: return -1 #길이가 2보다 짧아지면 더이상 실행의 필요성이 없으므로 -1 반환\n",
        "  temp=select(List[:-1],  k, cnt)\n",
        "  if temp == -1: return -1\n",
        "  else:\n",
        "    List[:len(temp)] = temp\n",
        "    return List\n",
        "\n",
        "n, k= map(int, input().split())\n",
        "data=list(map(int, input().split()))\n",
        "data = select(data,k)\n",
        "if data == -1: print(-1)\n",
        "else:\n",
        "  for i in data:\n",
        "    print(i,end=\" \")"
      ],
      "metadata": {
        "colab": {
          "base_uri": "https://localhost:8080/"
        },
        "id": "arYTeLrPnQy2",
        "outputId": "54bd31f9-854f-4099-f8b3-03ba65443969"
      },
      "execution_count": null,
      "outputs": [
        {
          "output_type": "stream",
          "name": "stdout",
          "text": [
            "5 2\n",
            "10 20100 1100101010 404040 20202020 101010101 01202002030004 404004040\n",
            "[10, 20100, 404004040, 404040, 20202020, 101010101, 1100101010, 1202002030004]\n"
          ]
        }
      ]
    },
    {
      "cell_type": "markdown",
      "source": [
        "#1003 피보나치 수열\n"
      ],
      "metadata": {
        "id": "kkye27XOrEyU"
      }
    },
    {
      "cell_type": "code",
      "source": [
        "def fib(n):\n",
        "  if len(data) > n:  return data[n]\n",
        "  else: temp=[0,0]\n",
        "  if n == 0:\n",
        "    temp[0] += 1\n",
        "    return temp\n",
        "  elif n == 1:\n",
        "    temp[1] += 1\n",
        "    return temp\n",
        "  else:\n",
        "    data_1= fib(n-1)\n",
        "    data_2=fib(n-2)\n",
        "    return [data_1[0 ]+ data_2[0], data_1[1] + data_2[1]]\n",
        "\n",
        "data=[]\n",
        "for i in range(41):\n",
        "  data.append(fib(i))\n",
        "\n",
        "T=int(input())\n",
        "for i in range(T):\n",
        "  N=int(input())\n",
        "  print(\"{} {}\".format(data[N][0],data[N][1]))"
      ],
      "metadata": {
        "colab": {
          "base_uri": "https://localhost:8080/"
        },
        "id": "Ay33hClVrICx",
        "outputId": "c54025a8-0c33-40e4-c6f7-126f33b8b330"
      },
      "execution_count": null,
      "outputs": [
        {
          "output_type": "stream",
          "name": "stdout",
          "text": [
            "1\n",
            "6\n",
            "5 8\n"
          ]
        }
      ]
    },
    {
      "cell_type": "markdown",
      "source": [
        "#24060 알고리즘 수업 - 병합 정렬 1"
      ],
      "metadata": {
        "id": "jzbgzXGF1GPq"
      }
    },
    {
      "cell_type": "code",
      "source": [
        "import sys\n",
        "sys.setrecursionlimit(10**6)#없으면 재귀 깊이 초과로 에러뜹니다\n",
        "def merge_sort(List, k):\n",
        "  temp=len(List) // 2\n",
        "  print(len(List) < 2)\n",
        "  if len(List) < 2:\n",
        "    return List\n",
        "  Down = merge_sort(List[:temp], k)\n",
        "  Up = merge_sort(List[temp:], k)\n",
        "  return merge_(Down, Up)\n",
        "\n",
        "def merge_(List_under, List_up):\n",
        "  global count\n",
        "  temp = []\n",
        "  while List_under or List_up:\n",
        "    if len(List_under) < 1:\n",
        "      temp.append(List_up.pop(0))\n",
        "      count += 1\n",
        "      continue\n",
        "    if len(List_up) < 1:\n",
        "      temp.append(List_under.pop(0))\n",
        "      count += 1\n",
        "      continue\n",
        "    if List_under[0] < List_up[0]:\n",
        "      temp.append(List_under.pop(0))\n",
        "    else:\n",
        "      temp.append(List_up.pop(0))\n",
        "    count += 1\n",
        "  if count == k:\n",
        "    print(temp[-1])\n",
        "  return temp\n",
        "\n",
        "count = 0\n",
        "n, k = map(int ,input().split())\n",
        "data = list(map(int, input().split()))\n",
        "merge_sort(data, k)\n",
        "if count < k: print(-1)"
      ],
      "metadata": {
        "colab": {
          "base_uri": "https://localhost:8080/",
          "height": 414
        },
        "id": "mKOmzN-A1KRN",
        "outputId": "453ea44e-6b64-44f6-be3e-644d007f7b12"
      },
      "execution_count": null,
      "outputs": [
        {
          "name": "stdout",
          "output_type": "stream",
          "text": [
            "5 7\n",
            "4 5 1 3 2\n"
          ]
        },
        {
          "output_type": "error",
          "ename": "KeyboardInterrupt",
          "evalue": "ignored",
          "traceback": [
            "\u001b[0;31m---------------------------------------------------------------------------\u001b[0m",
            "\u001b[0;31mKeyboardInterrupt\u001b[0m                         Traceback (most recent call last)",
            "\u001b[0;32m<ipython-input-80-2e05f9948cef>\u001b[0m in \u001b[0;36m<cell line: 34>\u001b[0;34m()\u001b[0m\n\u001b[1;32m     32\u001b[0m \u001b[0mn\u001b[0m\u001b[0;34m,\u001b[0m \u001b[0mk\u001b[0m \u001b[0;34m=\u001b[0m \u001b[0mmap\u001b[0m\u001b[0;34m(\u001b[0m\u001b[0mint\u001b[0m \u001b[0;34m,\u001b[0m\u001b[0minput\u001b[0m\u001b[0;34m(\u001b[0m\u001b[0;34m)\u001b[0m\u001b[0;34m.\u001b[0m\u001b[0msplit\u001b[0m\u001b[0;34m(\u001b[0m\u001b[0;34m)\u001b[0m\u001b[0;34m)\u001b[0m\u001b[0;34m\u001b[0m\u001b[0;34m\u001b[0m\u001b[0m\n\u001b[1;32m     33\u001b[0m \u001b[0mdata\u001b[0m \u001b[0;34m=\u001b[0m \u001b[0mlist\u001b[0m\u001b[0;34m(\u001b[0m\u001b[0mmap\u001b[0m\u001b[0;34m(\u001b[0m\u001b[0mint\u001b[0m\u001b[0;34m,\u001b[0m \u001b[0minput\u001b[0m\u001b[0;34m(\u001b[0m\u001b[0;34m)\u001b[0m\u001b[0;34m.\u001b[0m\u001b[0msplit\u001b[0m\u001b[0;34m(\u001b[0m\u001b[0;34m)\u001b[0m\u001b[0;34m)\u001b[0m\u001b[0;34m)\u001b[0m\u001b[0;34m\u001b[0m\u001b[0;34m\u001b[0m\u001b[0m\n\u001b[0;32m---> 34\u001b[0;31m \u001b[0mmerge_sort\u001b[0m\u001b[0;34m(\u001b[0m\u001b[0mdata\u001b[0m\u001b[0;34m,\u001b[0m \u001b[0mk\u001b[0m\u001b[0;34m)\u001b[0m\u001b[0;34m\u001b[0m\u001b[0;34m\u001b[0m\u001b[0m\n\u001b[0m\u001b[1;32m     35\u001b[0m \u001b[0;32mif\u001b[0m \u001b[0mcount\u001b[0m \u001b[0;34m<\u001b[0m \u001b[0mk\u001b[0m\u001b[0;34m:\u001b[0m\u001b[0;34m\u001b[0m\u001b[0;34m\u001b[0m\u001b[0m\n\u001b[1;32m     36\u001b[0m   \u001b[0mprint\u001b[0m\u001b[0;34m(\u001b[0m\u001b[0;34m-\u001b[0m\u001b[0;36m1\u001b[0m\u001b[0;34m)\u001b[0m\u001b[0;34m\u001b[0m\u001b[0;34m\u001b[0m\u001b[0m\n",
            "\u001b[0;32m<ipython-input-80-2e05f9948cef>\u001b[0m in \u001b[0;36mmerge_sort\u001b[0;34m(List, k)\u001b[0m\n\u001b[1;32m      6\u001b[0m     \u001b[0;32mreturn\u001b[0m \u001b[0mList\u001b[0m\u001b[0;34m\u001b[0m\u001b[0;34m\u001b[0m\u001b[0m\n\u001b[1;32m      7\u001b[0m   \u001b[0mDown\u001b[0m \u001b[0;34m=\u001b[0m \u001b[0mmerge_sort\u001b[0m\u001b[0;34m(\u001b[0m\u001b[0mList\u001b[0m\u001b[0;34m[\u001b[0m\u001b[0;34m:\u001b[0m\u001b[0mtemp\u001b[0m\u001b[0;34m]\u001b[0m\u001b[0;34m,\u001b[0m \u001b[0mk\u001b[0m\u001b[0;34m)\u001b[0m\u001b[0;34m\u001b[0m\u001b[0;34m\u001b[0m\u001b[0m\n\u001b[0;32m----> 8\u001b[0;31m   \u001b[0mUp\u001b[0m \u001b[0;34m=\u001b[0m \u001b[0mmerge_sort\u001b[0m\u001b[0;34m(\u001b[0m\u001b[0mList\u001b[0m\u001b[0;34m[\u001b[0m\u001b[0mtemp\u001b[0m\u001b[0;34m:\u001b[0m\u001b[0;34m]\u001b[0m\u001b[0;34m,\u001b[0m \u001b[0mk\u001b[0m\u001b[0;34m)\u001b[0m\u001b[0;34m\u001b[0m\u001b[0;34m\u001b[0m\u001b[0m\n\u001b[0m\u001b[1;32m      9\u001b[0m   \u001b[0;32mreturn\u001b[0m \u001b[0mmerge_\u001b[0m\u001b[0;34m(\u001b[0m\u001b[0mDown\u001b[0m\u001b[0;34m,\u001b[0m \u001b[0mUp\u001b[0m\u001b[0;34m)\u001b[0m\u001b[0;34m\u001b[0m\u001b[0;34m\u001b[0m\u001b[0m\n\u001b[1;32m     10\u001b[0m \u001b[0;34m\u001b[0m\u001b[0m\n",
            "\u001b[0;32m<ipython-input-80-2e05f9948cef>\u001b[0m in \u001b[0;36mmerge_sort\u001b[0;34m(List, k)\u001b[0m\n\u001b[1;32m      7\u001b[0m   \u001b[0mDown\u001b[0m \u001b[0;34m=\u001b[0m \u001b[0mmerge_sort\u001b[0m\u001b[0;34m(\u001b[0m\u001b[0mList\u001b[0m\u001b[0;34m[\u001b[0m\u001b[0;34m:\u001b[0m\u001b[0mtemp\u001b[0m\u001b[0;34m]\u001b[0m\u001b[0;34m,\u001b[0m \u001b[0mk\u001b[0m\u001b[0;34m)\u001b[0m\u001b[0;34m\u001b[0m\u001b[0;34m\u001b[0m\u001b[0m\n\u001b[1;32m      8\u001b[0m   \u001b[0mUp\u001b[0m \u001b[0;34m=\u001b[0m \u001b[0mmerge_sort\u001b[0m\u001b[0;34m(\u001b[0m\u001b[0mList\u001b[0m\u001b[0;34m[\u001b[0m\u001b[0mtemp\u001b[0m\u001b[0;34m:\u001b[0m\u001b[0;34m]\u001b[0m\u001b[0;34m,\u001b[0m \u001b[0mk\u001b[0m\u001b[0;34m)\u001b[0m\u001b[0;34m\u001b[0m\u001b[0;34m\u001b[0m\u001b[0m\n\u001b[0;32m----> 9\u001b[0;31m   \u001b[0;32mreturn\u001b[0m \u001b[0mmerge_\u001b[0m\u001b[0;34m(\u001b[0m\u001b[0mDown\u001b[0m\u001b[0;34m,\u001b[0m \u001b[0mUp\u001b[0m\u001b[0;34m)\u001b[0m\u001b[0;34m\u001b[0m\u001b[0;34m\u001b[0m\u001b[0m\n\u001b[0m\u001b[1;32m     10\u001b[0m \u001b[0;34m\u001b[0m\u001b[0m\n\u001b[1;32m     11\u001b[0m \u001b[0;32mdef\u001b[0m \u001b[0mmerge_\u001b[0m\u001b[0;34m(\u001b[0m\u001b[0mList_under\u001b[0m\u001b[0;34m,\u001b[0m \u001b[0mList_up\u001b[0m\u001b[0;34m)\u001b[0m\u001b[0;34m:\u001b[0m\u001b[0;34m\u001b[0m\u001b[0;34m\u001b[0m\u001b[0m\n",
            "\u001b[0;32m<ipython-input-80-2e05f9948cef>\u001b[0m in \u001b[0;36mmerge_\u001b[0;34m(List_under, List_up)\u001b[0m\n\u001b[1;32m     14\u001b[0m   \u001b[0;32mwhile\u001b[0m \u001b[0mList_under\u001b[0m \u001b[0;32mor\u001b[0m \u001b[0mList_up\u001b[0m\u001b[0;34m:\u001b[0m\u001b[0;34m\u001b[0m\u001b[0;34m\u001b[0m\u001b[0m\n\u001b[1;32m     15\u001b[0m     \u001b[0;32mif\u001b[0m \u001b[0mlen\u001b[0m\u001b[0;34m(\u001b[0m\u001b[0mList_under\u001b[0m\u001b[0;34m)\u001b[0m \u001b[0;34m<\u001b[0m \u001b[0;36m1\u001b[0m\u001b[0;34m:\u001b[0m\u001b[0;34m\u001b[0m\u001b[0;34m\u001b[0m\u001b[0m\n\u001b[0;32m---> 16\u001b[0;31m       \u001b[0marr\u001b[0m\u001b[0;34m.\u001b[0m\u001b[0mappend\u001b[0m\u001b[0;34m(\u001b[0m\u001b[0mList_up\u001b[0m\u001b[0;34m.\u001b[0m\u001b[0mpop\u001b[0m\u001b[0;34m(\u001b[0m\u001b[0;36m0\u001b[0m\u001b[0;34m)\u001b[0m\u001b[0;34m)\u001b[0m\u001b[0;34m\u001b[0m\u001b[0;34m\u001b[0m\u001b[0m\n\u001b[0m\u001b[1;32m     17\u001b[0m       \u001b[0mcount\u001b[0m \u001b[0;34m+=\u001b[0m \u001b[0;36m1\u001b[0m\u001b[0;34m\u001b[0m\u001b[0;34m\u001b[0m\u001b[0m\n\u001b[1;32m     18\u001b[0m       \u001b[0;32mcontinue\u001b[0m\u001b[0;34m\u001b[0m\u001b[0;34m\u001b[0m\u001b[0m\n",
            "\u001b[0;31mKeyboardInterrupt\u001b[0m: "
          ]
        }
      ]
    },
    {
      "cell_type": "code",
      "source": [
        "def merge_sort(arr):\n",
        "    def sort(low, high):\n",
        "        if high - low < 2:\n",
        "            return arr\n",
        "        mid = ((low + high)+1) // 2\n",
        "        sort(low, mid)\n",
        "        sort(mid, high)\n",
        "        merge(low, mid, high)\n",
        "\n",
        "    def merge(low, mid, high):\n",
        "        global ans\n",
        "        temp = []\n",
        "        l, h = low, mid\n",
        "\n",
        "        while l < mid and h < high:\n",
        "            if arr[l] < arr[h]:\n",
        "                temp.append(arr[l])\n",
        "                ans.append(arr[l])\n",
        "                l += 1\n",
        "            else:\n",
        "                temp.append(arr[h])\n",
        "                ans.append(arr[h])\n",
        "                h += 1\n",
        "\n",
        "        while l < mid:\n",
        "            temp.append(arr[l])\n",
        "            ans.append(arr[l])\n",
        "            l += 1\n",
        "        while h < high:\n",
        "            temp.append(arr[h])\n",
        "            ans.append(arr[h])\n",
        "            h += 1\n",
        "        for i in range(low, high):\n",
        "            arr[i] = temp[i - low]\n",
        "\n",
        "    return sort(0, len(arr))\n",
        "\n",
        "n, k = map(int, input().split())\n",
        "ans=[]\n",
        "data= list(map(int, input().split()))\n",
        "merge_sort(data)\n",
        "if len(ans) < k: print(-1)\n",
        "else: print(ans[k-1])"
      ],
      "metadata": {
        "colab": {
          "base_uri": "https://localhost:8080/"
        },
        "id": "ByWxUpxrJn8A",
        "outputId": "9eec9e52-a34b-4556-9580-3ec4f56403be"
      },
      "execution_count": null,
      "outputs": [
        {
          "output_type": "stream",
          "name": "stdout",
          "text": [
            "5 13\n",
            "4 5 1 3 2\n",
            "-1\n"
          ]
        }
      ]
    },
    {
      "cell_type": "markdown",
      "source": [
        "#23883 알고리즘 수업 - 선택 정렬 3"
      ],
      "metadata": {
        "id": "1wL7nLwy8RP1"
      }
    },
    {
      "cell_type": "code",
      "source": [
        "import sys\n",
        "sys.setrecursionlimit(10**6)\n",
        "\n",
        "def select(List, k):\n",
        "  global count\n",
        "  temp=[]\n",
        "  pivot = max(List)\n",
        "  if List[-1] < pivot:\n",
        "    temp.append([List[-1], pivot])\n",
        "    List[List.index(pivot)] = List[-1]\n",
        "    List[-1] = pivot\n",
        "    count+=1\n",
        "  if count > k-1:\n",
        "    print(\"{} {}\".format(temp[0][0], temp[0][1]))\n",
        "    return\n",
        "  if len(List) < 2:\n",
        "    print(-1)\n",
        "    return\n",
        "  return select(List[:-1], k)\n",
        "\n",
        "_,k=map(int, input().split())\n",
        "data=list(map(int, input().split()))\n",
        "count = 0\n",
        "select(data, k)"
      ],
      "metadata": {
        "colab": {
          "base_uri": "https://localhost:8080/"
        },
        "id": "rTSu8CBZ8Uwt",
        "outputId": "3e779f29-5dcb-4de6-e39b-733bbeb8c690"
      },
      "execution_count": null,
      "outputs": [
        {
          "output_type": "stream",
          "name": "stdout",
          "text": [
            "5 2\n",
            "3 1 2 5 4\n",
            "2 3\n"
          ]
        }
      ]
    },
    {
      "cell_type": "code",
      "source": [
        "import sys\n",
        "sys.setrecursionlimit(10**6)\n",
        "\n",
        "#메모리 초과\n",
        "def select(List, k):\n",
        "  global temp\n",
        "  pivot = max(List)\n",
        "  if List[-1] < pivot:\n",
        "    temp.append([List[-1], pivot])\n",
        "    List[List.index(pivot)] = List[-1]\n",
        "    List[-1] = pivot\n",
        "  if len(temp) > k-1:\n",
        "    print(\"{} {}\".format(temp[0], temp[-1]))\n",
        "    return 0\n",
        "  if len(List) < 2:\n",
        "    print(-1)\n",
        "    return\n",
        "  return select(List[:-1], k)\n",
        "\n",
        "n,k=map(int, input().split())\n",
        "data=list(map(int, input().split()))\n",
        "temp=[]\n",
        "res=select(data, k)\n",
        "if res < 0:  print(res)\n",
        "else: print(\"{} {}\".format(temp[-1][0],temp[-1][1]))"
      ],
      "metadata": {
        "id": "FAPP-MLJAd5Y"
      },
      "execution_count": null,
      "outputs": []
    },
    {
      "cell_type": "code",
      "source": [
        "n,k=map(int, input().split())\n",
        "data=list(map(int, input().split()))\n",
        "\n",
        "if len(data) -1 < k: print(-1)\n",
        "count = 0\n",
        "while len(data) > 1:\n",
        "  pivot = max(data)\n",
        "  if data[-1] < pivot:\n",
        "    temp=[data[-1], pivot]\n",
        "    data[data.index(pivot)] = data[-1]\n",
        "    data[-1] = pivot\n",
        "    count+=1\n",
        "  if count > k-1:\n",
        "    print(\"{} {}\".format(temp[0], temp[1]))\n",
        "    break\n",
        "  data=data[:-1]\n",
        "\n",
        "if len(data) < 2: print(-1)"
      ],
      "metadata": {
        "colab": {
          "base_uri": "https://localhost:8080/"
        },
        "id": "Wp3af_ozEPUj",
        "outputId": "5cc9093e-a0b3-4f97-e641-24e12cba69fe"
      },
      "execution_count": null,
      "outputs": [
        {
          "output_type": "stream",
          "name": "stdout",
          "text": [
            "5 4\n",
            "3 1 2 5 4\n",
            "-1\n",
            "0.0016422271728515625\n"
          ]
        }
      ]
    },
    {
      "cell_type": "code",
      "source": [
        "import time\n",
        "#n, k=map(int, input().split())\n",
        "#data=list(map(int, input().split()))\n",
        "data= L\n",
        "k=300\n",
        "time_0= time.time()\n",
        "if n -1 < k: print(-1) #그냥 값이 잘못 주어졌을 때\n",
        "\n",
        "count = 0\n",
        "while count < k:\n",
        "  pivot=data.index(max(data))\n",
        "  if data[-1] < data[pivot]:\n",
        "    temp=max(data)\n",
        "    data[pivot] = data[-1]\n",
        "    count+=1\n",
        "  if len(data) < 2:\n",
        "    print(-1)\n",
        "    break\n",
        "  data=data[:-1]\n",
        "\n",
        "if count == k: print(\"{} {}\".format(data[pivot], temp))\n",
        "time_1= time.time()\n",
        "print(abs(time_0-time_1))"
      ],
      "metadata": {
        "colab": {
          "base_uri": "https://localhost:8080/"
        },
        "id": "0OpXgSoZH4pt",
        "outputId": "03ca01ab-8120-460a-ed25-b9ebfa56c72f"
      },
      "execution_count": null,
      "outputs": [
        {
          "output_type": "stream",
          "name": "stdout",
          "text": [
            "-1\n",
            "842046 999378\n",
            "37.696210861206055\n"
          ]
        }
      ]
    },
    {
      "cell_type": "code",
      "source": [
        "n, k = map(int, input().split())\n",
        "li = list(map(int, input().split()))\n",
        "sorted_li = sorted(li)\n",
        "d = {}\n",
        "\n",
        "for i, l in enumerate(li):\n",
        "    d[l] = i\n",
        "\n",
        "i = n - 1\n",
        "for i in range(n - 1, -1, -1):\n",
        "    if sorted_li[i] != li[i]:\n",
        "        temp = [li[i], sorted_li[i]]\n",
        "        li[i], li[d[sorted_li[i]]] = li[d[sorted_li[i]]], li[i]\n",
        "        d[temp[0]], d[temp[1]] = d[temp[1]], d[temp[0]]\n",
        "        k -= 1\n",
        "        if k == 0:\n",
        "            print(*temp)\n",
        "            exit()\n",
        "\n",
        "print(-1)"
      ],
      "metadata": {
        "colab": {
          "base_uri": "https://localhost:8080/"
        },
        "id": "_DvVq31AbBTi",
        "outputId": "d7f67e50-c455-43d9-9868-edaf2390545d"
      },
      "execution_count": null,
      "outputs": [
        {
          "output_type": "stream",
          "name": "stdout",
          "text": [
            "5 2\n",
            "3 1 2 5 4\n",
            "2 3\n",
            "-1\n"
          ]
        }
      ]
    },
    {
      "cell_type": "code",
      "source": [
        "n, k=map(int, input().split())\n",
        "data=list(map(int, input().split()))\n",
        "\n",
        "data_sorted= sorted(data)\n",
        "dic={}\n",
        "\n",
        "for i, l in enumerate(data): dic[l]=i #주로 값 자체로 검색하니 key에 값을 넣어서 검색 할 수 있게 만들어 준다(정렬 전 데이터가 들어있어 자리를 바꾸기 용이함)\n",
        "\n",
        "for i in range(n-1, -1 ,-1):\n",
        "  if data[i] != data_sorted[i]:\n",
        "    res= [data[i], data_sorted[i]]\n",
        "    data[i], data[dic[data_sorted[i]]] = data[dic[data_sorted[i]]], data[i]\n",
        "    dic[res[0]], dic[res[1]] = dic[res[1]], dic[res[0]]\n",
        "    k-=1\n",
        "    if k == 0:\n",
        "      print(*res)\n",
        "      break\n",
        "if k > 0: print(-1)\n"
      ],
      "metadata": {
        "colab": {
          "base_uri": "https://localhost:8080/"
        },
        "id": "htqcIN3tjiga",
        "outputId": "a3df3cf8-2af9-4ce4-ca26-cc4b7a6539eb"
      },
      "execution_count": null,
      "outputs": [
        {
          "output_type": "stream",
          "name": "stdout",
          "text": [
            "5 2\n",
            "3 1 2 5 4\n",
            "2 3\n"
          ]
        }
      ]
    },
    {
      "cell_type": "markdown",
      "source": [
        "#24444 알고리즘 수업 - 너비 우선 탐색"
      ],
      "metadata": {
        "id": "PeJ0MlBkZl1j"
      }
    },
    {
      "cell_type": "code",
      "source": [
        "from collections import deque\n",
        "import sys\n",
        "input = sys.stdin.readline\n",
        "\n",
        "n, m, r = map(int, input().split())\n",
        "graph = [[] for _ in range(n + 1)]\n",
        "visited = [0] * (n + 1)\n",
        "count = 1\n",
        "\n",
        "for _ in range(m):\n",
        "    a, b = map(int, input().split())\n",
        "    graph[a].append(b)\n",
        "    graph[b].append(a)\n",
        "\n",
        "def bfs(v):\n",
        "    global count\n",
        "    q = deque([r])\n",
        "    visited[r] = 1\n",
        "    while q:\n",
        "        v = q.popleft()\n",
        "        graph[v].sort()\n",
        "        for g in graph[v]:\n",
        "            if visited[g] == 0:\n",
        "                count += 1\n",
        "                visited[g] = count\n",
        "                q.append(g)\n",
        "bfs(r)\n",
        "\n",
        "for v in visited[1:]:\n",
        "    print(v)"
      ],
      "metadata": {
        "id": "MUExYz76-CMg"
      },
      "execution_count": null,
      "outputs": []
    },
    {
      "cell_type": "code",
      "source": [
        "from collections import deque\n",
        "import sys\n",
        "input=sys.stdin.readline\n",
        "\n",
        "def BFS(r):\n",
        "  global count\n",
        "  q=deque([r])\n",
        "  point[r]=1\n",
        "  while q:\n",
        "    now=q.popleft()\n",
        "    graph[now].sort()\n",
        "    for i in graph[now]:\n",
        "      if point[i] == 0:\n",
        "        count+=1\n",
        "        point[i] = count\n",
        "        q.append(i)\n",
        "  return point\n",
        "\n",
        "n,m,r=map(int, input().split())\n",
        "graph = [[] for _ in range(n+1)]\n",
        "count=1\n",
        "point=[0] * (n+1)\n",
        "for i in range(m):\n",
        "    a,b=map(int,input().split())\n",
        "    graph[a].append(b)\n",
        "    graph[b].append(a)\n",
        "\n",
        "BFS(r)\n",
        "for i in point[1:]: print(i,end=\"\\n\")"
      ],
      "metadata": {
        "colab": {
          "base_uri": "https://localhost:8080/"
        },
        "id": "RvDQDYq_fAIh",
        "outputId": "c83f5d1e-873e-4025-895c-8d19f2231ce1"
      },
      "execution_count": null,
      "outputs": [
        {
          "output_type": "stream",
          "name": "stdout",
          "text": [
            "5 5 1\n",
            "1 4\n",
            "1 2\n",
            "2 3\n",
            "2 4\n",
            "3 4\n",
            "1\n",
            "2\n",
            "4\n",
            "3\n",
            "0\n"
          ]
        }
      ]
    },
    {
      "cell_type": "markdown",
      "source": [
        "#1193 분수찾기"
      ],
      "metadata": {
        "id": "YWaKwIH-NIUL"
      }
    },
    {
      "cell_type": "code",
      "source": [
        "x=int(input())\n",
        "for n in range(1,1000):#2 answp\n",
        "  if x - (n*(n+1))/2 <= 0: #기준열 1열\n",
        "    temp=(n*(n+1))/2 - x\n",
        "    if temp == 0: print(\"{}/{}\".format(n,int(temp)+1))\n",
        "    else:  print(\"{}/{}\".format(n-int(temp) ,int(temp)+1))\n",
        "    break"
      ],
      "metadata": {
        "colab": {
          "base_uri": "https://localhost:8080/"
        },
        "id": "vLIwShX4NOji",
        "outputId": "2259bd76-7fc7-4136-9cb2-b556c8036aba"
      },
      "execution_count": null,
      "outputs": [
        {
          "output_type": "stream",
          "name": "stdout",
          "text": [
            "9\n",
            "3/2\n"
          ]
        }
      ]
    },
    {
      "cell_type": "markdown",
      "source": [
        "#24479 알고리즘 수업 - 깊이 우선 탐색 1"
      ],
      "metadata": {
        "id": "grbwWMer1nSg"
      }
    },
    {
      "cell_type": "code",
      "source": [
        "import sys\n",
        "sys.setrecursionlimit(10**5)\n",
        "\n",
        "def DFS(now):\n",
        "  global cnt\n",
        "  cnt += 1\n",
        "  vis[now]=cnt\n",
        "  temp = sorted(data[now])\n",
        "  for i in temp:\n",
        "    if not vis[i]:\n",
        "      DFS(i)\n",
        "\n",
        "\n",
        "n,m,r = map(int, input().split())\n",
        "vis=[0] * (n+1)\n",
        "data = [[] for _ in range(n+1)]\n",
        "cnt = 0\n",
        "\n",
        "for _ in range(m):\n",
        "  a,b = map(int, input().split())\n",
        "  data[a].append(b)\n",
        "  data[b].append(a)\n",
        "\n",
        "DFS(r)\n",
        "print(*vis[1:], sep=\"\\n\")"
      ],
      "metadata": {
        "colab": {
          "base_uri": "https://localhost:8080/"
        },
        "id": "bvuZPWc81jrZ",
        "outputId": "ef431cba-e468-4bf9-cc10-aee8ad050de1"
      },
      "execution_count": null,
      "outputs": [
        {
          "output_type": "stream",
          "name": "stdout",
          "text": [
            "5 5 1\n",
            "1 4\n",
            "1 2\n",
            "2 3\n",
            "2 4\n",
            "3 4\n",
            "1\n",
            "2\n",
            "3\n",
            "4\n",
            "0\n"
          ]
        }
      ]
    },
    {
      "cell_type": "code",
      "source": [
        "def DFS(head):\n",
        "  cnt=1;stck=[head]\n",
        "  while stck:\n",
        "    now=stck.pop()\n",
        "    if not vis[now]:\n",
        "      vis[now]= cnt; cnt+=1\n",
        "      stck += data[now]\n",
        "\n",
        "n,m,r = map(int, input().split())\n",
        "vis=[0] * (n+1)\n",
        "data = [[] for _ in range(n+1)]\n",
        "\n",
        "for _ in range(m):\n",
        "  a,b = map(int, input().split())\n",
        "  data[a].append(b); data[b].append(a)\n",
        "\n",
        "for i in range(1, n+1):  data[i].sort(reverse=True)\n",
        "\n",
        "DFS(r)\n",
        "print(*vis[1:], sep=\"\\n\")"
      ],
      "metadata": {
        "colab": {
          "base_uri": "https://localhost:8080/"
        },
        "id": "5kaGsMqF3VQa",
        "outputId": "6aa980b3-573f-4f3a-beb1-53f247d1ffb8"
      },
      "execution_count": null,
      "outputs": [
        {
          "output_type": "stream",
          "name": "stdout",
          "text": [
            "5 4 1\n",
            "1 2\n",
            "1 3\n",
            "1 4\n",
            "1 5\n",
            "1\n",
            "2\n",
            "3\n",
            "4\n",
            "5\n"
          ]
        }
      ]
    },
    {
      "cell_type": "code",
      "source": [
        "data=[5,5,1,4, 1,2, 2,3, 2,4, 3,4]\n",
        "a,b,c,*d=data\n",
        "#print(\"{} {} {} {}\".format(a,b,c,d))\n",
        "for u,v in zip(d[::2],d[1::2]):print(\"{} {}\".format(u,v))"
      ],
      "metadata": {
        "colab": {
          "base_uri": "https://localhost:8080/"
        },
        "id": "w3AhHOxMKDvn",
        "outputId": "a1ab2001-4409-48d9-888b-10735a437026"
      },
      "execution_count": null,
      "outputs": [
        {
          "output_type": "stream",
          "name": "stdout",
          "text": [
            "5 5 1 [4, 1, 2, 2, 3, 2, 4, 3, 4]\n",
            "4 1\n",
            "2 2\n",
            "3 2\n",
            "4 3\n"
          ]
        }
      ]
    },
    {
      "cell_type": "markdown",
      "source": [
        "#1463 1로 만들기"
      ],
      "metadata": {
        "id": "l9lTn11-q8dm"
      }
    },
    {
      "cell_type": "code",
      "source": [
        "def make_1(num):\n",
        "  global count\n",
        "  print(num-1)\n",
        "  if num == 1:\n",
        "    data.append(count + data[num - 1])\n",
        "    return\n",
        "  if num < max_num:\n",
        "    data.append(count + data[num - 1])\n",
        "    return\n",
        "  elif not num % 3:\n",
        "    num //= 3\n",
        "    count += 1\n",
        "  elif not num % 2:\n",
        "    num //= 2\n",
        "    count += 1\n",
        "  else:\n",
        "    num -= 1\n",
        "    count += 1\n",
        "  return make_1(num)\n",
        "\n",
        "data=[0,0]\n",
        "for i in range(2, int(1e6)):\n",
        "  max_num=i-1\n",
        "  count=0\n",
        "  make_1(i)\n",
        "\n",
        "res=int(input())\n",
        "print(data[res])"
      ],
      "metadata": {
        "id": "l0KbiT3srXn5"
      },
      "execution_count": null,
      "outputs": []
    },
    {
      "cell_type": "code",
      "source": [
        "def make_1(num):\n",
        "  global count\n",
        "  if num < max_num:\n",
        "    data.append(count + data[num])\n",
        "    return\n",
        "  elif not num % 3:\n",
        "    num //= 3\n",
        "    count += 1\n",
        "  elif not num % 2:\n",
        "    num //= 2\n",
        "    count += 1\n",
        "  else:\n",
        "    num -= 1\n",
        "    count += 1\n",
        "  if num == 1:\n",
        "    data.append(count)\n",
        "    return\n",
        "  return make_1(num)\n",
        "\n",
        "data=[0,0]\n",
        "for i in range(2, 10**6):\n",
        "  max_num=i-1\n",
        "  count=0\n",
        "  make_1(i)\n",
        "\n",
        "res=int(input())\n",
        "print(data[res])"
      ],
      "metadata": {
        "colab": {
          "base_uri": "https://localhost:8080/"
        },
        "id": "aspcrfAYvxjz",
        "outputId": "97f0c536-adbf-4545-b50b-0c136a2d3bf8"
      },
      "execution_count": null,
      "outputs": [
        {
          "output_type": "stream",
          "name": "stdout",
          "text": [
            "10\n",
            "4\n"
          ]
        }
      ]
    },
    {
      "cell_type": "code",
      "source": [
        "q=int(input())\n",
        "d=[0,0]\n",
        "for i in range(2,q+1):\n",
        "  d.append(d[i-1] + 1)\n",
        "  if not  i % 3: d[i] = min(d[i], d[i//3] + 1)\n",
        "  if not i % 2: d[i] = min(d[i], d[i//2] + 1)\n",
        "\n",
        "print(d[q])"
      ],
      "metadata": {
        "colab": {
          "base_uri": "https://localhost:8080/"
        },
        "id": "-JT1lGVi1dfF",
        "outputId": "c633b567-86f3-4edc-9994-96fc81dab565"
      },
      "execution_count": null,
      "outputs": [
        {
          "output_type": "stream",
          "name": "stdout",
          "text": [
            "10\n",
            "0\n"
          ]
        }
      ]
    },
    {
      "cell_type": "code",
      "source": [
        "f=lambda n:n<2 or min(n%3+f(n//3),n%2+f(n//2))+1\n",
        "print(f(int(input()))-1)"
      ],
      "metadata": {
        "colab": {
          "base_uri": "https://localhost:8080/"
        },
        "id": "t5zfVqwFvdTV",
        "outputId": "1bc2cfea-9960-43e4-bcfc-e09b20e94028"
      },
      "execution_count": null,
      "outputs": [
        {
          "output_type": "stream",
          "name": "stdout",
          "text": [
            "10\n",
            "3\n"
          ]
        }
      ]
    },
    {
      "cell_type": "markdown",
      "source": [
        "#1904 01타일\n"
      ],
      "metadata": {
        "id": "2bbZTopt9j3K"
      }
    },
    {
      "cell_type": "code",
      "source": [
        "1:1 -> 1\n",
        "2: 11 00 -> 2\n",
        "\n",
        "3: 111 100 001 -> 3\n",
        "4: 0011 1001 1100 0000 1111 -> 5\n",
        "\n",
        "5:      10000   -> 7\n",
        "6: 000000 111111 001111 100111 110011 111001 111100 000011 001001 100001 100100 -> 11\n"
      ],
      "metadata": {
        "id": "96ORY27x9nW9"
      },
      "execution_count": null,
      "outputs": []
    },
    {
      "cell_type": "code",
      "source": [
        "n=int(input())\n",
        "d=[0] *(n+10)\n",
        "d[1]=1\n",
        "d[2]=2\n",
        "for i in range(3, n+10):\n",
        "  d[i] = (d[i-1] + d[i-2])  % 15746\n",
        "\n",
        "print(d[n])"
      ],
      "metadata": {
        "colab": {
          "base_uri": "https://localhost:8080/"
        },
        "id": "Fv0pBY-7Ckcm",
        "outputId": "b5866803-b535-46aa-cc4e-b81f4c52fd20"
      },
      "execution_count": null,
      "outputs": [
        {
          "output_type": "stream",
          "name": "stdout",
          "text": [
            "6\n",
            "11\n"
          ]
        }
      ]
    },
    {
      "cell_type": "markdown",
      "source": [
        "#1149 RGB 거리"
      ],
      "metadata": {
        "id": "808HWeiPOj0X"
      }
    },
    {
      "cell_type": "code",
      "source": [
        "cost=0\n",
        "temp=[]\n",
        "data=[[71,39,44],\n",
        "            [32,83,55],\n",
        "            [51,37,63],\n",
        "      [89,29,100]\n",
        "      ]\n",
        "for i in data:\n"
      ],
      "metadata": {
        "id": "_t3OajXgOnPw"
      },
      "execution_count": null,
      "outputs": []
    }
  ]
}