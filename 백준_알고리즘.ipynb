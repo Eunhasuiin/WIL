{
  "nbformat": 4,
  "nbformat_minor": 0,
  "metadata": {
    "colab": {
      "provenance": [],
      "authorship_tag": "ABX9TyNEQnBZdIktzftFvDBOtwY+",
      "include_colab_link": true
    },
    "kernelspec": {
      "name": "python3",
      "display_name": "Python 3"
    },
    "language_info": {
      "name": "python"
    }
  },
  "cells": [
    {
      "cell_type": "markdown",
      "metadata": {
        "id": "view-in-github",
        "colab_type": "text"
      },
      "source": [
        "<a href=\"https://colab.research.google.com/github/Eunhasuiin/WIL/blob/algorithm/%EB%B0%B1%EC%A4%80_%EC%95%8C%EA%B3%A0%EB%A6%AC%EC%A6%98.ipynb\" target=\"_parent\"><img src=\"https://colab.research.google.com/assets/colab-badge.svg\" alt=\"Open In Colab\"/></a>"
      ]
    },
    {
      "cell_type": "markdown",
      "source": [
        "#1268 임시 반장 정하기"
      ],
      "metadata": {
        "id": "LKRPSSilX7uL"
      }
    },
    {
      "cell_type": "code",
      "execution_count": null,
      "metadata": {
        "colab": {
          "base_uri": "https://localhost:8080/"
        },
        "id": "OMNKz3K-W0-e",
        "outputId": "d058783b-013f-4654-871b-2f8ebd856145"
      },
      "outputs": [
        {
          "output_type": "stream",
          "name": "stdout",
          "text": [
            "5\n",
            "4\n"
          ]
        }
      ],
      "source": [
        "a=int(input())\n",
        "data=[]\n",
        "D=[]\n",
        "res=0\n",
        "temp=0\n",
        "grade=0\n",
        "\n",
        "for _ in range(a):data.append(list(map(int,input().split()))) #각 학생의 번호 뽑기\n",
        "person=[[] for _ in range(a)]\n",
        "\n",
        "for i in range(5): #n학년때 학생의 반\n",
        "    for j in range(a):   D.append(data[j][grade]) # 열 추출기\n",
        "    while D: #각각의 학생 선택\n",
        "        now=D.pop(0)\n",
        "        student=a-len(D)-1\n",
        "        for k in range(len(D)): #현 학생 번호\n",
        "            if now != D[k]: continue\n",
        "            person[student].append(student+k+1)\n",
        "            person[student+k+1].append(student)\n",
        "    grade+=1\n",
        "\n",
        "\n",
        "for i in range(len(person)):\n",
        "  if temp < len(set(person[i])):\n",
        "    temp=len(set(person[i]))\n",
        "    res=i\n",
        "\n",
        "print(res+1) #-> max"
      ]
    },
    {
      "cell_type": "code",
      "source": [
        "a=int(input())\n",
        "data=[]\n",
        "D=[]\n",
        "grade=0\n",
        "\n",
        "for i in range(a):data.append(list(map(int,input().split()))) #각 학생의 번호 뽑기\n",
        "person=[[0 for _ in range(a)] for _ in range(a)]\n",
        "\n",
        "for i in range(5): #n학년때 학생의 반\n",
        "    for j in range(a):   D.append(data[j][grade]) # 열 추출기\n",
        "    while D: #각각의 학생 선택\n",
        "        now=D.pop(0)\n",
        "        student=a-len(D)-1\n",
        "        for k in range(len(D)): #현 학생 번호\n",
        "            if now != D[k]: continue\n",
        "            person[student][student+k+1]=1\n",
        "            person[student+k+1][student]=1\n",
        "    grade+=1\n",
        "\n",
        "\n",
        "\n",
        "res=[]\n",
        "for i in person: res.append(i.count(1))\n",
        "print(res.index(max(res))+1)"
      ],
      "metadata": {
        "id": "nyo7zn3HSL0O"
      },
      "execution_count": null,
      "outputs": []
    },
    {
      "cell_type": "code",
      "source": [
        "a=int(input()) #str -> int\n",
        "data=[]\n",
        "for _ in range(a):\n",
        "    temp=list(map(int,input().split()))\n",
        "    data.append(temp) #str -> int\n",
        "\n",
        "person=[[] for _ in range(a)]\n",
        "\n",
        "for k in range(5): #n학년\n",
        "    for j in range(a): #현 학생\n",
        "        for i in range(j+1, a): #같은 반 학생은 누구인가\n",
        "            if data[i][k] != data[j][k]: continue #c\n",
        "            person[j].append(i)#c\n",
        "            person[i].append(j)#c\n",
        "\n",
        "\n",
        "temp=0\n",
        "res=0\n",
        "for i in range(len(person)):\n",
        "  if temp < len(set(person[i])):\n",
        "    temp= len(set(person[i]))\n",
        "    res=i\n",
        "\n",
        "print(res+1)"
      ],
      "metadata": {
        "id": "4gkwjygySKaC"
      },
      "execution_count": null,
      "outputs": []
    },
    {
      "cell_type": "markdown",
      "source": [
        "# 1647 도시 분할 계획"
      ],
      "metadata": {
        "id": "wT0tsIfx2WD1"
      }
    },
    {
      "cell_type": "code",
      "source": [
        "import sys\n",
        "input = sys.stdin.readline\n",
        "\n",
        "def find(x):\n",
        "    if x!=parent[x]: parent[x]=find(parent[x])\n",
        "    return parent[x]\n",
        "\n",
        "def union_(a, b):\n",
        "    a=find(a)\n",
        "    b=find(b)\n",
        "    if a==b:\n",
        "        return\n",
        "    if rank[a] > rank[b]:\n",
        "        parent[b] = a\n",
        "    elif rank[a] < rank[b]:\n",
        "        parent[a] = b\n",
        "    else:\n",
        "        parent[a]=b\n",
        "        rank[b]+=1\n",
        "\n",
        "n, m = map(int, input().split())\n",
        "roads= []\n",
        "parent = [i for i in range(n+1)]\n",
        "rank=[0]*(n+1)\n",
        "\n",
        "for _ in range(m):\n",
        "    a,b,cost=map(int,input().split())\n",
        "    roads.append((a,b,cost))\n",
        "\n",
        "roads.sort(key=lambda data : data[2])\n",
        "result=0\n",
        "cost=0\n",
        "for i in roads:\n",
        "    if find(i[0]) != find(i[1]):\n",
        "        union_(i[0],i[1])\n",
        "        result+=i[2]\n",
        "        cost=i[2]\n",
        "\n",
        "\n",
        "print(result-cost)"
      ],
      "metadata": {
        "id": "8R-LgyI12aLX"
      },
      "execution_count": null,
      "outputs": []
    },
    {
      "cell_type": "code",
      "source": [
        "def union_parent(a, b):\n",
        "    a=find_parent(a)\n",
        "    b=find_parent(b)\n",
        "    if a==b: return\n",
        "    if rank[a] < rank[b]: parent[b]=a\n",
        "    elif rank[a] > rank[b]: parent[a]=b\n",
        "    else:\n",
        "      parent[a]=b\n",
        "      rank[b]+=1\n",
        "\n",
        "n, m = map(int, input().split())\n",
        "roads= []\n",
        "parent = [i for i in range(n+1)]\n",
        "rank=[0]*(n+1)\n",
        "\n",
        "for _ in range(m): roads.append(tuple(map(int,input().split())))\n",
        "\n",
        "roads.sort(key=lambda data : data[2])\n",
        "result=0\n",
        "cost=0\n",
        "for i in roads:\n",
        "    if find_parent(i[0]) != find_parent(i[1]):\n",
        "        union_parent(i[0],i[1])\n",
        "        result+=i[2]\n",
        "        cost=i[2]\n",
        "\n",
        "\n",
        "print(result-cost)"
      ],
      "metadata": {
        "id": "3BxMeagw2cmY"
      },
      "execution_count": null,
      "outputs": []
    },
    {
      "cell_type": "code",
      "source": [
        "n, m = map(int, input().split())\n",
        "roads= []\n",
        "parent = [i for i in range(n+1)]\n",
        "rank=[0]*(n+1)\n",
        "\n",
        "for _ in range(m): roads.append(tuple(map(int,input().split())))\n",
        "\n",
        "roads.sort(key=lambda data : data[2])\n",
        "result=0\n",
        "cost=0\n",
        "for i in roads:\n",
        "    if find_parent(i[0]) != find_parent(i[1]):\n",
        "        union_parent(i[0],i[1])\n",
        "        result+=i[2]\n",
        "        cost=i[2]\n",
        "\n",
        "\n",
        "print(result-cost)"
      ],
      "metadata": {
        "id": "Xk5cot_ZE3Qw"
      },
      "execution_count": null,
      "outputs": []
    },
    {
      "cell_type": "code",
      "source": [
        "n, m = map(int, input().split())\n",
        "roads= []\n",
        "parent = [i for i in range(n+1)]\n",
        "rank=[0]*(n+1)\n",
        "\n",
        "for _ in range(m): roads.append(tuple(map(int,input().split())))\n",
        "\n",
        "roads.sort(key=lambda data : data[2])\n",
        "result=0\n",
        "cost=0\n",
        "for i in roads:\n",
        "    if find_parent(i[0]) != find_parent(i[1]):\n",
        "        union_parent(i[0],i[1])\n",
        "        result+=i[2]\n",
        "        cost=i[2]\n",
        "\n",
        "\n",
        "print(result-cost)"
      ],
      "metadata": {
        "id": "8AvCbaF_E5Q-"
      },
      "execution_count": null,
      "outputs": []
    },
    {
      "cell_type": "code",
      "source": [
        "import sys\n",
        "\n",
        "input = sys.stdin.readline\n",
        "\n",
        "\n",
        "def find(x):\n",
        "    if x != parent[x]:\n",
        "        parent[x] = find(parent[x])\n",
        "    return parent[x]\n",
        "\n",
        "\n",
        "def union_(a, b):\n",
        "    a = find(a)\n",
        "    b = find(b)\n",
        "\n",
        "    # 이미 부모가 같다면 리턴\n",
        "    if a == b:\n",
        "        return\n",
        "\n",
        "    if rank[a] > rank[b]:\n",
        "        parent[b] = a\n",
        "    elif rank[a] < rank[b]:\n",
        "        parent[a] = b\n",
        "    else:\n",
        "        parent[a] = b\n",
        "        rank[b] += 1\n",
        "\n",
        "\n",
        "N, M = map(int, input().split())\n",
        "\n",
        "graph = []\n",
        "parent = [i for i in range(N + 1)]  # 부모를 저장\n",
        "rank = [0] * (N + 1)  # 각 노드마다 랭크를 저장\n",
        "for i in range(M):\n",
        "    a, b, cost = map(int, input().split())\n",
        "    graph.append((a, b, cost))\n",
        "\n",
        "graph.sort(key=lambda x: x[2])  # 마을의 비용을 오름차순으로 정렬\n",
        "ans = 0  # 연결된 마을 길이의 합\n",
        "end_v = 0  # 마지막에 연결된 마을 길이를 저장\n",
        "for i in graph:\n",
        "\n",
        "    if find(i[0]) != find(i[1]):\n",
        "        union_(i[0], i[1])\n",
        "        ans += i[2]  # 마을의 연결 비용들을 계속 더해주고\n",
        "        end_v = i[2]  # 마지막에 연결된 마을 연결 비용을 저장\n",
        "\n",
        "print(ans - end_v)  # 마지막에 연결된 연결 비용만 빼준 체 출력"
      ],
      "metadata": {
        "id": "JbAwJcxp2iMg"
      },
      "execution_count": null,
      "outputs": []
    },
    {
      "cell_type": "markdown",
      "source": [
        "#23899 알고리즘 수업 - 선택 정렬 5"
      ],
      "metadata": {
        "id": "VapPmuRcMF92"
      }
    },
    {
      "cell_type": "code",
      "source": [
        "L=int(input())\n",
        "array_1=list(map(int, input().split()))\n",
        "array_2=list(map(int, input().split()))\n",
        "\n",
        "decide=True\n",
        "#최대 실행 시간 n*10^18\n",
        "while decide:\n",
        "\n",
        "  temp=0\n",
        "  for i in range(len(array_1)): #다른 부분이 하나라도 등장하면\n",
        "    if array_1[i] != array_2[i]:break\n",
        "    temp+=1\n",
        "    if temp == len(array_1): decide=False"
      ],
      "metadata": {
        "id": "AjWW6eJ2MIKU"
      },
      "execution_count": null,
      "outputs": []
    },
    {
      "cell_type": "code",
      "source": [
        "sys.setrecursionlimit(10**6)\n",
        "\n",
        "def select_1(arr_1, arr_2):\n",
        "  if arr_1[:-1] == arr_2[:-1]:  return 1\n",
        "  p=max(arr_1)\n",
        "  if arr_1[-1] != p: #크기 비교 및 교환\n",
        "    arr_1[arr_1.index(p)] = arr_1[-1]\n",
        "    arr_1[-1] = p\n",
        "\n",
        "  if len(arr_1[:-1]) == 0 and arr_1[-1] == arr_2[-1]: return 1 #다음 길이가 0인 경우 + 마지막 친구까지 같으면 종료\n",
        "  elif arr_1[-1] != arr_2[-1]:  return 0  #다른 케이스가 하나라도 발견되면\n",
        "  else: return select_1(arr_1[:-1], arr_2[:-1]) #같으면 앞쪽도 확인 필요\n",
        "\n",
        "L=int(input())\n",
        "array_1=list(map(int, input().split()))\n",
        "array_2=list(map(int, input().split()))\n",
        "\n",
        "select_1(array_1, array_2)"
      ],
      "metadata": {
        "colab": {
          "base_uri": "https://localhost:8080/"
        },
        "id": "3svDy9EnMQpV",
        "outputId": "7aa6d1fb-8ece-40da-aa20-c9c86bd878a3"
      },
      "execution_count": null,
      "outputs": [
        {
          "output_type": "execute_result",
          "data": {
            "text/plain": [
              "0"
            ]
          },
          "metadata": {},
          "execution_count": 39
        }
      ]
    },
    {
      "cell_type": "code",
      "source": [
        "\n",
        "\n",
        "def select(a, b):\n",
        "  if a[:-1] == b[:-1]:  return 1\n",
        "  p=max(b)\n",
        "  if a[-1] != p: #크기 비교 및 교환\n",
        "    a[a.index(p)] = a[-1]\n",
        "    a[-1] = p\n",
        "\n",
        "  if len(a[:-1]) == 0 and a[-1] == b[-1]: return 1 #다음 길이가 0인 경우 + 마지막 친구까지 같으면 종료\n",
        "  elif a[-1] != b[-1]:  return 0  #다른 케이스가 하나라도 발견되면\n",
        "  else: return select(a[:-1], b[:-1]) #같으면 앞쪽도 확인 필요\n",
        "\n",
        "#L=int(input())\n",
        "#c=list(map(int, input().split()))\n",
        "#d=list(map(int, input().split()))\n",
        "\n",
        "c=[2,3,1,10,50,23]\n",
        "d= [23, 3, 1, 50 ,10,2]\n",
        "\n",
        "select(c, d)"
      ],
      "metadata": {
        "colab": {
          "base_uri": "https://localhost:8080/"
        },
        "id": "mYJzbfSRZjjj",
        "outputId": "06d31ed8-bed3-40e6-9a4d-e2cf047e2ec4"
      },
      "execution_count": null,
      "outputs": [
        {
          "output_type": "execute_result",
          "data": {
            "text/plain": [
              "0"
            ]
          },
          "metadata": {},
          "execution_count": 44
        }
      ]
    },
    {
      "cell_type": "code",
      "source": [
        "\n",
        "def select(array):\n",
        "  print(array)\n",
        "  if len(array) == 0: return array\n",
        "  pivot=max(array)\n",
        "  if array[-1] != pivot: #크기 비교 및 교환\n",
        "    array[array.index(pivot)] = array[-1]\n",
        "    array[-1] = pivot\n",
        "\n",
        "\n",
        "  res = select(array[:-1])\n",
        "  array[:len(res)] = res\n",
        "  return array\n",
        "\n",
        "array_1=[3,1,2,5,4]\n",
        "select(array_1)"
      ],
      "metadata": {
        "colab": {
          "base_uri": "https://localhost:8080/"
        },
        "id": "f2fmVotcUa1c",
        "outputId": "bd7b89a7-32fb-4d87-de89-c852a9fe7746"
      },
      "execution_count": null,
      "outputs": [
        {
          "output_type": "stream",
          "name": "stdout",
          "text": [
            "[3, 1, 2, 5, 4]\n",
            "[3, 1, 2, 4]\n",
            "[3, 1, 2]\n",
            "[2, 1]\n",
            "[1]\n",
            "[]\n"
          ]
        },
        {
          "output_type": "execute_result",
          "data": {
            "text/plain": [
              "[1, 2, 3, 4, 5]"
            ]
          },
          "metadata": {},
          "execution_count": 25
        }
      ]
    },
    {
      "cell_type": "code",
      "source": [
        "max([3,2,1])"
      ],
      "metadata": {
        "colab": {
          "base_uri": "https://localhost:8080/"
        },
        "id": "la64zX2IWHHi",
        "outputId": "983091fb-e459-4c55-f824-6754ad0ad0fb"
      },
      "execution_count": null,
      "outputs": [
        {
          "output_type": "execute_result",
          "data": {
            "text/plain": [
              "3"
            ]
          },
          "metadata": {},
          "execution_count": 21
        }
      ]
    },
    {
      "cell_type": "code",
      "source": [],
      "metadata": {
        "colab": {
          "base_uri": "https://localhost:8080/",
          "height": 303
        },
        "id": "vZYjulu-Ot8C",
        "outputId": "fb2ed3cf-fa89-493e-e729-6e38ca87a7f0"
      },
      "execution_count": null,
      "outputs": [
        {
          "output_type": "stream",
          "name": "stdout",
          "text": [
            "1\n"
          ]
        },
        {
          "output_type": "error",
          "ename": "TypeError",
          "evalue": "ignored",
          "traceback": [
            "\u001b[0;31m---------------------------------------------------------------------------\u001b[0m",
            "\u001b[0;31mTypeError\u001b[0m                                 Traceback (most recent call last)",
            "\u001b[0;32m<ipython-input-29-8ec11be2a936>\u001b[0m in \u001b[0;36m<cell line: 5>\u001b[0;34m()\u001b[0m\n\u001b[1;32m      3\u001b[0m \u001b[0marray_2\u001b[0m\u001b[0;34m=\u001b[0m\u001b[0;34m[\u001b[0m\u001b[0;36m2\u001b[0m\u001b[0;34m,\u001b[0m\u001b[0;36m1\u001b[0m\u001b[0;34m,\u001b[0m\u001b[0;36m3\u001b[0m\u001b[0;34m,\u001b[0m\u001b[0;36m4\u001b[0m\u001b[0;34m,\u001b[0m\u001b[0;36m5\u001b[0m\u001b[0;34m]\u001b[0m\u001b[0;34m\u001b[0m\u001b[0;34m\u001b[0m\u001b[0m\n\u001b[1;32m      4\u001b[0m \u001b[0;34m\u001b[0m\u001b[0m\n\u001b[0;32m----> 5\u001b[0;31m \u001b[0mselect\u001b[0m\u001b[0;34m(\u001b[0m\u001b[0marray_1\u001b[0m\u001b[0;34m,\u001b[0m \u001b[0marray_2\u001b[0m\u001b[0;34m)\u001b[0m\u001b[0;34m\u001b[0m\u001b[0;34m\u001b[0m\u001b[0m\n\u001b[0m",
            "\u001b[0;32m<ipython-input-28-90624a601b31>\u001b[0m in \u001b[0;36mselect\u001b[0;34m(array, compare)\u001b[0m\n\u001b[1;32m     12\u001b[0m   \u001b[0;32melse\u001b[0m\u001b[0;34m:\u001b[0m\u001b[0;34m\u001b[0m\u001b[0;34m\u001b[0m\u001b[0m\n\u001b[1;32m     13\u001b[0m     \u001b[0mprint\u001b[0m\u001b[0;34m(\u001b[0m\u001b[0;36m1\u001b[0m\u001b[0;34m)\u001b[0m\u001b[0;34m\u001b[0m\u001b[0;34m\u001b[0m\u001b[0m\n\u001b[0;32m---> 14\u001b[0;31m     \u001b[0;32mreturn\u001b[0m \u001b[0mselect\u001b[0m\u001b[0;34m(\u001b[0m\u001b[0marray\u001b[0m\u001b[0;34m[\u001b[0m\u001b[0;34m:\u001b[0m\u001b[0;34m-\u001b[0m\u001b[0;36m1\u001b[0m\u001b[0;34m]\u001b[0m\u001b[0;34m)\u001b[0m \u001b[0;31m#같으면 앞쪽도 확인 필요\u001b[0m\u001b[0;34m\u001b[0m\u001b[0;34m\u001b[0m\u001b[0m\n\u001b[0m",
            "\u001b[0;31mTypeError\u001b[0m: select() missing 1 required positional argument: 'compare'"
          ]
        }
      ]
    },
    {
      "cell_type": "markdown",
      "source": [
        "#23881 알고리즘 수업 - 선택 정렬1"
      ],
      "metadata": {
        "id": "s1dWx2tVtFP9"
      }
    },
    {
      "cell_type": "code",
      "source": [
        "import sys\n",
        "sys.setrecursionlimit(10**6) #없으면 재귀 깊이 초과로 에러뜹니다\n",
        "_,k=map(int, input().split())\n",
        "data=list(map(int, input().split()))\n",
        "\n",
        "def selection_sort(data, k,cnt = 0):\n",
        "  pivot=max(data)\n",
        "  temp=data[-1]\n",
        "  if temp != pivot: #만약 제일 큰 수가 제일 뒤에 있지 않다면\n",
        "    data[data.index(pivot)] = temp\n",
        "    data[-1] = pivot\n",
        "    cnt+=1\n",
        "\n",
        "  if cnt == k: #우리가 타겟한 변경 횟수에 도달했을 때, 교환이 성립된 순간\n",
        "    print(\"{} {}\".format(temp, pivot))\n",
        "    return 0\n",
        "  if len(data[:-1]) == 1:\n",
        "    print(-1)\n",
        "    return 0\n",
        "\n",
        "  selection_sort(data[:-1],k,cnt)\n",
        "\n",
        "selection_sort(data, k)"
      ],
      "metadata": {
        "colab": {
          "base_uri": "https://localhost:8080/"
        },
        "id": "-so-sWhZtE9B",
        "outputId": "7007a5cc-9a82-497b-a4c4-0a8285043881"
      },
      "execution_count": null,
      "outputs": [
        {
          "output_type": "stream",
          "name": "stdout",
          "text": [
            "5 2\n",
            "3 1 2 5 4\n",
            "2 3\n"
          ]
        }
      ]
    },
    {
      "cell_type": "code",
      "source": [
        "def select(List):\n",
        "  pivot = min(List)\n",
        "  if List[0] > pivot: #자리를 바꿔주는 메소드\n",
        "    List[List.index(pivot)] = List[0]\n",
        "    List[0] = pivot\n",
        "  if len(List) == 2: return List\n",
        "  temp=select(List[1:])\n",
        "  List[(len(List)-len(temp)):]=temp\n",
        "  return List\n",
        "\n",
        "select([3,1,2,4,6,5])"
      ],
      "metadata": {
        "colab": {
          "base_uri": "https://localhost:8080/"
        },
        "id": "lKA4nMGKO8SK",
        "outputId": "3d969531-f6a3-4252-aeac-e71d23fa25fb"
      },
      "execution_count": null,
      "outputs": [
        {
          "output_type": "execute_result",
          "data": {
            "text/plain": [
              "[1, 2, 3, 4, 5, 6]"
            ]
          },
          "metadata": {},
          "execution_count": 51
        }
      ]
    },
    {
      "cell_type": "markdown",
      "source": [
        "#23882 알고리즘 수업 - 선택 정렬 2"
      ],
      "metadata": {
        "id": "7SzYdQMNeDzZ"
      }
    },
    {
      "cell_type": "code",
      "source": [
        "import sys\n",
        "sys.setrecursionlimit(10**6)\n",
        "def select(List,k,cnt=0):\n",
        "  pivot = max(List)\n",
        "  if List[-1] != pivot: #교환하는 알고리즘\n",
        "    List[-1], List[List.index(pivot)] = pivot, List[-1]\n",
        "    cnt += 1\n",
        "  if cnt == k: return List\n",
        "  elif len(List) <= 2: return -1\n",
        "  temp=select(List[:-1],  k, cnt)\n",
        "  if temp == -1: return -1\n",
        "  else:\n",
        "    List[:len(temp)] = temp\n",
        "    return List\n",
        "\n",
        "n, k= 5, 3\n",
        "data=[3,1,2,5,7,6,4]\n",
        "print(select(data,k))"
      ],
      "metadata": {
        "colab": {
          "base_uri": "https://localhost:8080/"
        },
        "id": "8b1qzKXQeHp4",
        "outputId": "962eb3fc-265f-4a7d-921b-7f62de617852"
      },
      "execution_count": null,
      "outputs": [
        {
          "output_type": "stream",
          "name": "stdout",
          "text": [
            "[2, 1, 3, 4, 5, 6, 7]\n"
          ]
        }
      ]
    },
    {
      "cell_type": "code",
      "source": [
        "import sys\n",
        "sys.setrecursionlimit(10**6)#없으면 재귀 깊이 초과로 에러뜹니다\n",
        "\n",
        "def select(List,k,cnt=0):\n",
        "  pivot = max(List)\n",
        "  if List[-1] != pivot: #교환하는 부분\n",
        "    List[-1], List[List.index(pivot)] = pivot, List[-1]\n",
        "    cnt += 1\n",
        "\n",
        "  if cnt == k: return List #임계치에 도달하면 리스트 반환\n",
        "  elif len(List) <= 2: return -1 #길이가 2보다 짧아지면 더이상 실행의 필요성이 없으므로 -1 반환\n",
        "  temp=select(List[:-1],  k, cnt)\n",
        "  if temp == -1: return -1\n",
        "  else:\n",
        "    List[:len(temp)] = temp\n",
        "    return List\n",
        "\n",
        "n, k= map(int, input().split())\n",
        "data=list(map(int, input().split()))\n",
        "data = select(data,k)\n",
        "if data == -1: print(-1)\n",
        "else:\n",
        "  for i in data:\n",
        "    print(i,end=\" \")"
      ],
      "metadata": {
        "colab": {
          "base_uri": "https://localhost:8080/"
        },
        "id": "arYTeLrPnQy2",
        "outputId": "54bd31f9-854f-4099-f8b3-03ba65443969"
      },
      "execution_count": null,
      "outputs": [
        {
          "output_type": "stream",
          "name": "stdout",
          "text": [
            "5 2\n",
            "10 20100 1100101010 404040 20202020 101010101 01202002030004 404004040\n",
            "[10, 20100, 404004040, 404040, 20202020, 101010101, 1100101010, 1202002030004]\n"
          ]
        }
      ]
    },
    {
      "cell_type": "markdown",
      "source": [
        "#1003 피보나치 수열\n"
      ],
      "metadata": {
        "id": "kkye27XOrEyU"
      }
    },
    {
      "cell_type": "code",
      "source": [
        "def fib(n):\n",
        "  if len(data) > n:  return data[n]\n",
        "  else: temp=[0,0]\n",
        "  if n == 0:\n",
        "    temp[0] += 1\n",
        "    return temp\n",
        "  elif n == 1:\n",
        "    temp[1] += 1\n",
        "    return temp\n",
        "  else:\n",
        "    data_1= fib(n-1)\n",
        "    data_2=fib(n-2)\n",
        "    return [data_1[0 ]+ data_2[0], data_1[1] + data_2[1]]\n",
        "\n",
        "data=[]\n",
        "for i in range(41):\n",
        "  data.append(fib(i))\n",
        "\n",
        "T=int(input())\n",
        "for i in range(T):\n",
        "  N=int(input())\n",
        "  print(\"{} {}\".format(data[N][0],data[N][1]))"
      ],
      "metadata": {
        "colab": {
          "base_uri": "https://localhost:8080/"
        },
        "id": "Ay33hClVrICx",
        "outputId": "c54025a8-0c33-40e4-c6f7-126f33b8b330"
      },
      "execution_count": 10,
      "outputs": [
        {
          "output_type": "stream",
          "name": "stdout",
          "text": [
            "1\n",
            "6\n",
            "5 8\n"
          ]
        }
      ]
    }
  ]
}