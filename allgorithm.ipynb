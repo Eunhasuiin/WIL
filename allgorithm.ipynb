{
  "nbformat": 4,
  "nbformat_minor": 0,
  "metadata": {
    "colab": {
      "provenance": [],
      "collapsed_sections": [
        "6V7Ld7zLNF6y",
        "_oTDQNMnNLdJ",
        "zGZDLIpfvfK4",
        "loUMIIo3xNt2",
        "x2sJwd4I10fP",
        "rapNCChuitEm",
        "hqtIXKEh1-R-"
      ],
      "authorship_tag": "ABX9TyMn1eXh3i6aH54UCfzRczec",
      "include_colab_link": true
    },
    "kernelspec": {
      "name": "python3",
      "display_name": "Python 3"
    },
    "language_info": {
      "name": "python"
    }
  },
  "cells": [
    {
      "cell_type": "markdown",
      "metadata": {
        "id": "view-in-github",
        "colab_type": "text"
      },
      "source": [
        "<a href=\"https://colab.research.google.com/github/Eunhasuiin/WIL/blob/algorithm/allgorithm.ipynb\" target=\"_parent\"><img src=\"https://colab.research.google.com/assets/colab-badge.svg\" alt=\"Open In Colab\"/></a>"
      ]
    },
    {
      "cell_type": "markdown",
      "source": [
        "# III 그리디 알고리즘"
      ],
      "metadata": {
        "id": "6V7Ld7zLNF6y"
      }
    },
    {
      "cell_type": "code",
      "execution_count": null,
      "metadata": {
        "colab": {
          "base_uri": "https://localhost:8080/"
        },
        "id": "XejkprN-cO8u",
        "outputId": "6d0e4d5e-d116-4369-cd94-c23ff9344292"
      },
      "outputs": [
        {
          "output_type": "stream",
          "name": "stdout",
          "text": [
            "5 8 3\n",
            "2 4 5 6 4\n",
            "46\n"
          ]
        }
      ],
      "source": [
        "#NO.I 큰 수의 법칙\n",
        "N,M,K=map(int,input().split()) #N is length of data M is Maximum cycle K is continuty of each data\n",
        "array=list(map(int,input().split()))\n",
        "\n",
        "array.sort() # for find max num\n",
        "res=0 #result\n",
        "\n",
        "while M:\n",
        "  for i in range(K):\n",
        "    if M==0: break\n",
        "    res+=array[-1] #sum max num\n",
        "    M-=1 #Check we used turn\n",
        "  if M==0: break\n",
        "  res+=array[-2] # when we use all of turn for sum max number, We should use second big number\n",
        "  M-=1 #Check we used turn\n",
        "\n",
        "print(res)"
      ]
    },
    {
      "cell_type": "code",
      "source": [
        "N,M,K=map(int,input().split()) #N is length of data M is Maximum cycle K is continuty of each data\n",
        "array=list(map(int,input().split()))\n",
        "\n",
        "array.sort() # for find max num\n",
        "res=0 #result\n",
        "temp=divmod(M,K)[0]\n",
        "res=array[-2]*temp + array[-1]*(M-temp)\n",
        "\n",
        "print(res)"
      ],
      "metadata": {
        "colab": {
          "base_uri": "https://localhost:8080/"
        },
        "id": "Y8c8pRUPDo8l",
        "outputId": "0ada6df6-8c03-4007-f0b3-f9b2ea3d4a13"
      },
      "execution_count": null,
      "outputs": [
        {
          "output_type": "stream",
          "name": "stdout",
          "text": [
            "5 8 3\n",
            "2 4 5 6 4\n",
            "46\n"
          ]
        }
      ]
    },
    {
      "cell_type": "code",
      "source": [
        "# 2-3 숫자 카드 게임\n",
        "M,N=map(int,input().split())\n",
        "\n",
        "temp=[] #list for containing minimum of each column\n",
        "for i in range(M):\n",
        "  temp.append(min(list(map(int,input().split())))) #recieve each column and get minimum one and insert it to temp\n",
        "\n",
        "print(max(temp)) #print max one when it from the smallest value of each column"
      ],
      "metadata": {
        "colab": {
          "base_uri": "https://localhost:8080/"
        },
        "id": "eGLXtlgBfzTe",
        "outputId": "c702d1eb-91a6-4f3a-f7f0-5ea1bd804cdb"
      },
      "execution_count": null,
      "outputs": [
        {
          "output_type": "stream",
          "name": "stdout",
          "text": [
            "2 4\n",
            "7 3 1 8\n",
            "3 3 3 4\n",
            "3\n"
          ]
        }
      ]
    },
    {
      "cell_type": "code",
      "source": [
        "N,K=map(int, input().split())\n",
        "count=0\n",
        "while N:\n",
        "  if N % K >0: \n",
        "    N-=1\n",
        "    count+=1\n",
        "  else: \n",
        "    N//=K\n",
        "    count+=1\n",
        "\n",
        "print(count-1)"
      ],
      "metadata": {
        "colab": {
          "base_uri": "https://localhost:8080/"
        },
        "id": "W5apU981meon",
        "outputId": "db1ffcb9-6025-4f87-c0c9-cf0a739cf0a3"
      },
      "execution_count": null,
      "outputs": [
        {
          "output_type": "stream",
          "name": "stdout",
          "text": [
            "46 2\n",
            "8\n"
          ]
        }
      ]
    },
    {
      "cell_type": "code",
      "source": [
        "N,K=map(int, input().split())\n",
        "count=0\n",
        "while N >1:\n",
        "  if N % K > 0:\n",
        "    temp=divmod(N,K)\n",
        "    count+=temp[1]\n",
        "    N-=temp[1]\n",
        "  else:\n",
        "    N/=K\n",
        "    count+=1\n",
        "\n",
        "print(count)"
      ],
      "metadata": {
        "colab": {
          "base_uri": "https://localhost:8080/"
        },
        "id": "f4dnY5OToOc2",
        "outputId": "8fc118e0-6a4e-493c-95b1-bd4b16f2e18a"
      },
      "execution_count": null,
      "outputs": [
        {
          "output_type": "stream",
          "name": "stdout",
          "text": [
            "25 5\n",
            "2\n"
          ]
        }
      ]
    },
    {
      "cell_type": "markdown",
      "source": [
        "# IV 구현"
      ],
      "metadata": {
        "id": "_oTDQNMnNLdJ"
      }
    },
    {
      "cell_type": "code",
      "source": [
        "#왕실의 나이트\n",
        "data= input()\n",
        "data= ((int(ord(data[0]))-int(ord('a'))+1), int(data[1]))\n",
        "\n",
        "\n",
        "move=[(1,2), (2,1), (-1,2), (-2,1), (1,-2), (2,-1), (-1,-2), (-2,-1)]\n",
        "count=0\n",
        "\n",
        "for (i,j) in move:\n",
        "  temp_x=data[0] + i\n",
        "  temp_y=data[1] + j\n",
        "\n",
        "  if temp_x < 9 and temp_x > 0 and temp_y < 9 and temp_y > 0: count+=1\n",
        "\n",
        "print(count)   "
      ],
      "metadata": {
        "colab": {
          "base_uri": "https://localhost:8080/"
        },
        "id": "FcrfyzejNOpX",
        "outputId": "c73dca94-e12e-4e81-8fef-ddc5e64025f2"
      },
      "execution_count": null,
      "outputs": [
        {
          "output_type": "stream",
          "name": "stdout",
          "text": [
            "a1\n",
            "2\n"
          ]
        }
      ]
    },
    {
      "cell_type": "code",
      "source": [
        "data= list(map(int, input().split()))\n",
        "x, y, sight=map(int, input().split())\n",
        "now=(x,y)\n",
        "\n",
        "#변수 세팅\n",
        "dir=[(0,1), (1,0), (0,-1), (-1,0)]\n",
        "table=[]\n",
        "count=0\n",
        "\n",
        "for i in range(data[1]):\n",
        "  table.append(list(map(int,input().split())))\n",
        "\n",
        "def turn(): #회전하는 함수\n",
        "  global sight\n",
        "  if sight < 1: sight=3\n",
        "  else: sight -= 1\n",
        "\n",
        "\n",
        "#simulation start\n",
        "while 1:\n",
        "  turn_count=0\n",
        "#step I\n",
        "#step II\n",
        "  if table[now[0]][now[1]]!=1: #현 위치가 방문하지 않은 장소였다면\n",
        "    count+=1                   #1을 더해주고\n",
        "    table[now[0]][now[1]]=1    #테이블을 방문처리 해줍니다.\n",
        "\n",
        "  nx= now[0] + dir[sight][0]\n",
        "  ny= now[1] + dir[sight][1]\n",
        "\n",
        "  if table[nx][ny] != 0: #만약 앞 테이블이 방문한 적 있거나 바다라면\n",
        "    turn()\n",
        "    continue;\n",
        "\n",
        "  now=(nx,ny)\n",
        "#step III\n",
        "  while turn_count < 5: #사방을 확인해줍니다.\n",
        "    turn()\n",
        "    turn_count+=1\n",
        "    nx= now[0] + dir[sight][0]\n",
        "    ny= now[1] + dir[sight][1]\n",
        "    if table[nx][ny] != 1: #만약 방문한 적 없는 위치가 존재한다면 이하는 작동할 이유가 없으니 최상단으로 돌아갑니다.\n",
        "      continue\n",
        "\n",
        "  nx= now[0] - dir[sight][0]\n",
        "  ny= now[1] - dir[sight][1]\n",
        "  if table[nx][ny]==1: \n",
        "    count+=1 #이 케이스에선 최상단으로 올라가지 않으므로 1로 마무리 밑 움직인 횟수를 추가로 체크해줍니다.\n",
        "    table[now[0]][now[1]]=1\n",
        "    break #뒤를 봤는데 바다이거나 방문한 적 있다면 멈춰줍니다.\n",
        "  now=(nx,ny)\n",
        "    \n",
        "print(count)"
      ],
      "metadata": {
        "colab": {
          "base_uri": "https://localhost:8080/"
        },
        "id": "LgkFN7TEUZVY",
        "outputId": "0169e035-4303-4a25-baa9-e88de93e12ef"
      },
      "execution_count": null,
      "outputs": [
        {
          "output_type": "stream",
          "name": "stdout",
          "text": [
            "5 5\n",
            "1 1 0\n",
            "1 1 1 1 1\n",
            "1 0 0 0 1\n",
            "1 1 0 1 1\n",
            "1 1 0 1 1\n",
            "1 1 1 1 1\n",
            "4\n"
          ]
        }
      ]
    },
    {
      "cell_type": "code",
      "source": [
        "data= list(map(int, input().split()))\n",
        "x, y, sight=map(int, input().split())\n",
        "now=(x,y)\n",
        "\n",
        "#변수 세팅\n",
        "dir=[(0,1), (1,0), (0,-1), (-1,0)]\n",
        "table=[]\n",
        "count=0\n",
        "queue=[]\n",
        "\n",
        "for i in range(data[1]):\n",
        "  table.append(list(map(int,input().split())))\n",
        "#simulation start\n",
        "while 1:\n",
        "  break_= 0\n",
        "#step I\n",
        "#step II\n",
        "  #print(\"\\n now is {},{}\".format(now[0],now[1]))\n",
        "  \n",
        "  if table[now[0]][now[1]]!=1: #현 위치가 방문하지 않은 장소였다면\n",
        "    count+=1                   #1을 더해주고\n",
        "    table[now[0]][now[1]]=1    #테이블을 방문처리 해줍니다.\n",
        "\n",
        "    for i in range(4):\n",
        "      nx= now[0] + dir[i][0]\n",
        "      ny= now[1] + dir[i][1]\n",
        "      #print(\"1st phase: {}\".format(table[nx][ny]))\n",
        "      if table[nx][ny] != 0: #만약 앞 테이블이 방문한 적 있거나 바다라면\n",
        "        continue\n",
        "      queue.append((now[0],now[1],i)) #방문 해야하는 방향들을 Queue에 저장해줍니다.\n",
        "      #print(queue)\n",
        "  #print(table,end='\\n')\n",
        "\n",
        "  #다음 방문 값을 지정해줍니다.\n",
        "  temp=queue.pop(0)\n",
        "  nx=temp[0] + dir[temp[2]][0]; ny=temp[1] + dir[temp[2]][1]; sight=temp[2]\n",
        "  now=(nx,ny)\n",
        "\n",
        "#step III\n",
        "  for i in range(4): #사방을 확인해줍니다.\n",
        "    nx= now[0] + dir[i][0]\n",
        "    ny= now[1] + dir[i][1]\n",
        "    #print(\"2nd phase: {}\".format(table[nx][ny]))\n",
        "    if table[nx][ny] != 1: #만약 방문한 적 없는 위치가 존재한다면 이하는 작동할 이유가 없으니 최상단으로 돌아갑니다.\n",
        "      break_=1\n",
        "      break\n",
        "  if break_ != 0: continue\n",
        "\n",
        "  #꼬리는 세팅을 안하니까 체크해주고\n",
        "  if table[now[0]][now[1]]!=1: #현 위치가 방문하지 않은 장소였다면\n",
        "    count+=1                   #1을 더해주고\n",
        "    table[now[0]][now[1]]=1    #테이블을 방문처리 해줍니다.\n",
        "\n",
        "  nx= now[0] - dir[sight][0]\n",
        "  ny= now[1] - dir[sight][1]\n",
        "  if table[nx][ny]==1 and not queue: break #뒤를 봤는데 바다이거나 방문한 적 있고 queue가 비어있으면 멈춥니다.\n",
        "  \n",
        "\n",
        "print(count)\n"
      ],
      "metadata": {
        "colab": {
          "base_uri": "https://localhost:8080/"
        },
        "id": "FQ0-_CSJwgcI",
        "outputId": "b0c41ca2-a260-4067-a433-1bb140d34fe0"
      },
      "execution_count": null,
      "outputs": [
        {
          "output_type": "stream",
          "name": "stdout",
          "text": [
            "5 5\n",
            "1 1 0\n",
            "1 1 1 1 1\n",
            "1 0 0 0 1\n",
            "1 1 0 1 1\n",
            "1 1 0 1 1\n",
            "1 1 1 1 1\n",
            "5\n"
          ]
        }
      ]
    },
    {
      "cell_type": "markdown",
      "source": [
        "#V DFS/BFS"
      ],
      "metadata": {
        "id": "zGZDLIpfvfK4"
      }
    },
    {
      "cell_type": "code",
      "source": [
        "n,m=map(int,input().split()) #n is column m is row\n",
        "\n",
        "table=[]\n",
        "result=0\n",
        "for i in range(n):\n",
        "  table.append(list(map(int,input().split())))\n",
        "\n",
        "def dfs(row,col):\n",
        "  if row < 0 or row > n-1 or col < 0 or col > m-1: return 0\n",
        "  if not table[row][col]: #if position == 0\n",
        "    table[row][col] =1\n",
        "    dfs(row+1,col)\n",
        "    dfs(row-1,col)\n",
        "    dfs(row,col+1)\n",
        "    dfs(row,col-1)\n",
        "    return 1\n",
        "  return 0\n",
        "\n",
        "for i in range(n):\n",
        "  for j in range(m):\n",
        "    \n",
        "    result += dfs(i,j)\n",
        "\n",
        "print(result)"
      ],
      "metadata": {
        "colab": {
          "base_uri": "https://localhost:8080/"
        },
        "id": "TtZLVj9mvea6",
        "outputId": "ff07f822-4ea1-412c-c588-dc9233b7fef3"
      },
      "execution_count": null,
      "outputs": [
        {
          "output_type": "stream",
          "name": "stdout",
          "text": [
            "4 5\n",
            "0 0 1 1 0\n",
            "0 0 0 1 1\n",
            "1 1 1 1 1\n",
            "0 0 0 0 0\n",
            "3\n"
          ]
        }
      ]
    },
    {
      "cell_type": "code",
      "source": [
        "from collections import deque\n",
        "\n",
        "n,m=map(int,input().split())\n",
        "table=[]\n",
        "now= [0,0]\n",
        "dir=[(0,-1),(-1,0),(0,1),(1,0)]\n",
        "count=1\n",
        "queue=deque()\n",
        "\n",
        "for _ in range(n):\n",
        "  table.append(list(map(int,input().split())))\n",
        "\n",
        "\n",
        "while True:\n",
        "  for row, col in dir:\n",
        "    if now[0] + row > n-1 or now[0] + row < 0 or now[1] + col > m-1 or now[1] + col < 0 or table[now[0]+ row][now[1]+ col] <= 0:  continue #이미 방문 했었거나 인덱스 범위 밖의 값은 배제해줍니다.\n",
        "    queue.append([now[0]+row, now[1]+col, count+1] )\n",
        "    \n",
        "  table[now[0]][now[1]] = -1 #방문 처리\n",
        "  now=queue.popleft() #큐의 첫 값을 다시 가져옵니다.\n",
        "  count=now[2]\n",
        "  if now[0] == n-1 and now[1] == m-1:\n",
        "    print(count)\n",
        "    break"
      ],
      "metadata": {
        "colab": {
          "base_uri": "https://localhost:8080/"
        },
        "id": "lZcOwhIN3Uf3",
        "outputId": "dbe89514-fdda-4f32-c2d4-5297317f7434"
      },
      "execution_count": null,
      "outputs": [
        {
          "output_type": "stream",
          "name": "stdout",
          "text": [
            "5 6\n",
            "1 0 1 0 1 0\n",
            "1 1 1 1 1 1\n",
            "0 0 0 0 0 1\n",
            "1 1 1 1 1 1\n",
            "1 1 1 1 1 1 \n",
            "10\n"
          ]
        }
      ]
    },
    {
      "cell_type": "markdown",
      "source": [
        "#VI 정렬"
      ],
      "metadata": {
        "id": "loUMIIo3xNt2"
      }
    },
    {
      "cell_type": "code",
      "source": [
        "length=int(input())\n",
        "data=list()\n",
        "for i in range(length): data.append(int(input()))\n",
        "\n",
        "data.sort(reverse=True)\n",
        "\n",
        "while data: print(data.pop(0),end=\" \")"
      ],
      "metadata": {
        "colab": {
          "base_uri": "https://localhost:8080/"
        },
        "id": "FF5peUL8xRAl",
        "outputId": "4d88121e-775f-4a09-a72b-dbeb683c3b91"
      },
      "execution_count": null,
      "outputs": [
        {
          "output_type": "stream",
          "name": "stdout",
          "text": [
            "3\n",
            "15\n",
            "27\n",
            "12\n",
            "[27, 15, 12]\n",
            "27 15 12 "
          ]
        }
      ]
    },
    {
      "cell_type": "code",
      "source": [
        "length=int(input())\n",
        "\n",
        "data=list()\n",
        "for i in range(length):\n",
        "  name, score=input().split()\n",
        "  data.append((name,int(score)))\n",
        "\n",
        "data.sort(key=lambda data: data[1])\n",
        "while data: print(data.pop(0)[0], end=\" \")"
      ],
      "metadata": {
        "colab": {
          "base_uri": "https://localhost:8080/"
        },
        "id": "tqgdZzpfyLmz",
        "outputId": "d845d7d7-8352-4a37-9f13-b285b0beaa0f"
      },
      "execution_count": null,
      "outputs": [
        {
          "output_type": "stream",
          "name": "stdout",
          "text": [
            "2\n",
            "홍길동 99\n",
            "이순신 66\n",
            "이순신 홍길동 "
          ]
        }
      ]
    },
    {
      "cell_type": "code",
      "source": [
        "N, K=map(int,input().split())\n",
        "\n",
        "data_A=sorted(list(map(int,input().split())))\n",
        "data_B=sorted(list(map(int,input().split())))\n",
        "#data_A.sort()\n",
        "#data_B.sort(reverse=True)\n",
        "\n",
        "loc=N\n",
        "while K and loc:\n",
        "  if data_A[N-loc] < data_B[N-loc]:\n",
        "    data_A[N-loc] , data_B[N-loc] = data_B[N-loc] , data_A[N-loc]\n",
        "    K-=1\n",
        "  loc-=1\n",
        "print(sum(data_A))"
      ],
      "metadata": {
        "colab": {
          "base_uri": "https://localhost:8080/"
        },
        "id": "XKjHhJNqz71v",
        "outputId": "c1bb7bea-5fa9-48fd-ac12-dbb4dbd140bb"
      },
      "execution_count": null,
      "outputs": [
        {
          "output_type": "stream",
          "name": "stdout",
          "text": [
            "5 3\n",
            "1 2 5 4 3\n",
            "5 5 6 6 5\n",
            "5 3 [1, 2, 3, 4, 5] [6, 6, 5, 5, 5] 5\n",
            "26\n"
          ]
        }
      ]
    },
    {
      "cell_type": "markdown",
      "source": [
        "# VII 이진 탐색"
      ],
      "metadata": {
        "id": "x2sJwd4I10fP"
      }
    },
    {
      "cell_type": "code",
      "source": [
        "N=int(input())\n",
        "index=sorted(list(map(int,input().split())))\n",
        "\n",
        "M=int(input())\n",
        "data=list(map(int,input().split()))\n",
        "\n",
        "def b_search(index,data):\n",
        "  if len(index) < 1: return \"no\" # if max value is 2 make trouble\n",
        "  cent=len(index)//2\n",
        "  if data < index[cent]: return b_search(index[:cent],data)\n",
        "  elif data > index[cent]: return b_search(index[cent+1:],data)\n",
        "  else: return \"yes\"\n",
        "\n",
        "while data: print(b_search(index,data.pop(0)),end=\" \")"
      ],
      "metadata": {
        "colab": {
          "base_uri": "https://localhost:8080/"
        },
        "id": "TjtC4_6u4Pjk",
        "outputId": "351d9cc7-f781-4e02-a5b6-53b353a3348b"
      },
      "execution_count": null,
      "outputs": [
        {
          "output_type": "stream",
          "name": "stdout",
          "text": [
            "5\n",
            "8 3 7 9 2\n",
            "3\n",
            "5 7 9\n",
            "no yes yes "
          ]
        }
      ]
    },
    {
      "cell_type": "code",
      "source": [
        "N,M=map(int,input().split())\n",
        "data=sorted(list(map(int,input().split())))\n",
        "value= data[len(data) // 2]\n",
        "\n",
        "while True:\n",
        "  total=0 #자른 떡의 길이\n",
        "  for j in data:\n",
        "    if j-value < 0: continue\n",
        "    total+=(j-value)\n",
        "    \n",
        "  if total < M: \n",
        "    value -= 1\n",
        "  elif total > M: \n",
        "    value += 1\n",
        "  else:\n",
        "    print(value)\n",
        "    break"
      ],
      "metadata": {
        "colab": {
          "base_uri": "https://localhost:8080/"
        },
        "id": "Q8rn7v6C7s5l",
        "outputId": "fd992fd6-2ad5-459f-8189-950244017de4"
      },
      "execution_count": null,
      "outputs": [
        {
          "output_type": "stream",
          "name": "stdout",
          "text": [
            "4 6\n",
            "19 15 10 17\n",
            "15\n"
          ]
        }
      ]
    },
    {
      "cell_type": "code",
      "source": [
        "N,M=map(int,input().split())\n",
        "data=sorted(list(map(int,input().split())))\n",
        "\n",
        "for i in range(N):\n",
        "  temp=(sum(data[:i+1]) - M)/(i+1)\n",
        "  if temp >= data[i+1]:\n",
        "     print(int(temp))\n",
        "     break"
      ],
      "metadata": {
        "colab": {
          "base_uri": "https://localhost:8080/"
        },
        "id": "d9JtjqXYIcnK",
        "outputId": "e566c758-4dca-4ea8-a1ec-748359fd6754"
      },
      "execution_count": null,
      "outputs": [
        {
          "output_type": "stream",
          "name": "stdout",
          "text": [
            "15\n"
          ]
        }
      ]
    },
    {
      "cell_type": "markdown",
      "source": [
        "# VIII 다이나믹 프로그래밍"
      ],
      "metadata": {
        "id": "rapNCChuitEm"
      }
    },
    {
      "cell_type": "code",
      "source": [
        "x=int(input())\n",
        "d=[0]*(x+2)\n",
        "\n",
        "for i in range(1,x+1):\n",
        "  d[i]=d[i-1]+1\n",
        "  if not x%2:  d[i]=min(d[i], d[i//2] + 1)\n",
        "  if not x%2:  d[i]=min(d[i], d[i//3] + 1)\n",
        "  if not x%5:  d[i]=min(d[i], d[i//5] + 1)\n",
        "\n",
        "print(d[x])"
      ],
      "metadata": {
        "colab": {
          "base_uri": "https://localhost:8080/"
        },
        "id": "GRSy97Fai64d",
        "outputId": "345c16b8-7bbe-4b36-cc53-486c4c895273"
      },
      "execution_count": null,
      "outputs": [
        {
          "output_type": "stream",
          "name": "stdout",
          "text": [
            "26\n",
            "3\n"
          ]
        }
      ]
    },
    {
      "cell_type": "code",
      "source": [
        "n=int(input())\n",
        "data=list(map(int,input().split()))\n",
        "d=[0]*(n+2)\n",
        "\n",
        "d[0]=data[0]; d[1]=max(data[0],data[1])\n",
        "for i in range(2,n):\n",
        "  d[i]=max(d[i-1], d[i-2]+ data[i])\n",
        "\n",
        "print(d)"
      ],
      "metadata": {
        "colab": {
          "base_uri": "https://localhost:8080/"
        },
        "id": "HmpbmIHPmLRl",
        "outputId": "5894bc85-c96e-4999-c7e1-dd11bfd614a8"
      },
      "execution_count": null,
      "outputs": [
        {
          "output_type": "stream",
          "name": "stdout",
          "text": [
            "4\n",
            "1 3 1 5\n",
            "[1, 3, 3, 8, 0, 0]\n"
          ]
        }
      ]
    },
    {
      "cell_type": "code",
      "source": [
        "n=int(input())\n",
        "d=[0]*(n+2)\n",
        "d[1]=1 \n",
        "d[2]=3\n",
        "for i in range(3, n+1): d[i] = (d[i-1] + d[i-2]*2) % 796796 #case 1 남은 칸 수가 1칸이라면 1X2 밖에 등장하지 못함 남은 칸이 2개면 2X2 or 2X1 2개 밖에 등장하지 못함 1X2 2개는 이미 고려했음\n",
        "\n",
        "print(d[n])"
      ],
      "metadata": {
        "colab": {
          "base_uri": "https://localhost:8080/"
        },
        "id": "kvucMc7AoCoa",
        "outputId": "2565e912-025e-49f8-d840-36def92b65b3"
      },
      "execution_count": null,
      "outputs": [
        {
          "output_type": "stream",
          "name": "stdout",
          "text": [
            "4\n",
            "11\n"
          ]
        }
      ]
    },
    {
      "cell_type": "code",
      "source": [
        "n,m= map(int, input().split())\n",
        "INF=1e5\n",
        "\n",
        "coin=[]\n",
        "cost=[INF]*1000\n",
        "cost[0]=0\n",
        "for i in range(n): \n",
        "  temp = int(input())\n",
        "  coin.append(temp)\n",
        "  cost[temp]=1\n",
        "\n",
        "for i in range(2,m+1):\n",
        "  for j in coin:\n",
        "    if i <= j: continue\n",
        "    cost[i]= min(cost[i-j]+1, cost[i]) # 현 위치에서 코인만큼 뺀 친구와 이전 까지 온 횟수를 비교해서 작을 것을 채택\n",
        "\n",
        "\n",
        "if cost[m] == INF: print(-1)\n",
        "else: print(cost[m])"
      ],
      "metadata": {
        "colab": {
          "base_uri": "https://localhost:8080/"
        },
        "id": "kEiNIJoYw4tF",
        "outputId": "6dd3a6b0-e494-421e-905b-af3bc19dec9a"
      },
      "execution_count": null,
      "outputs": [
        {
          "output_type": "stream",
          "name": "stdout",
          "text": [
            "2 15\n",
            "2\n",
            "3\n",
            "5\n"
          ]
        }
      ]
    },
    {
      "cell_type": "markdown",
      "source": [
        "#XI 최단 경로"
      ],
      "metadata": {
        "id": "hqtIXKEh1-R-"
      }
    },
    {
      "cell_type": "code",
      "source": [
        "INF= 1e9\n",
        "n,m= map(int,input().split())\n",
        "\n",
        "data=[[INF] * (n) for i in range(n) ] # 10X10 matrix\n",
        "\n",
        "for i in range(n):\n",
        "  for j in range(n):\n",
        "    if i==j: data[i][j]=0\n",
        "\n",
        "for i in range(m):\n",
        "  a,b= map(int, input().split())\n",
        "  data[a-1][b-1]= data[b-1][a-1]= 1 #matching input to python list\n",
        "\n",
        "for k in range(n):\n",
        "  for a in range(n):\n",
        "    for b in range(n):\n",
        "        data[a][b]= min(data[a][b], data[a][k] + data[k][b])\n",
        "\n",
        "x,k=map(int, input().split())\n",
        "\n",
        "dist=data[0][k-1]+data[k-1][x-1]\n",
        "\n",
        "if dist>=INF: print(-1)\n",
        "else: print(dist)"
      ],
      "metadata": {
        "colab": {
          "base_uri": "https://localhost:8080/"
        },
        "id": "H2hlKdoQ2L6T",
        "outputId": "e84392f7-f484-47c3-b7ad-37231d161269"
      },
      "execution_count": null,
      "outputs": [
        {
          "output_type": "stream",
          "name": "stdout",
          "text": [
            "5 7\n",
            "1 2\n",
            "1 3\n",
            "1 4\n",
            "2 4\n",
            "3 4\n",
            "3 5\n",
            "4 5\n",
            "4 5\n",
            "3\n"
          ]
        }
      ]
    },
    {
      "cell_type": "code",
      "source": [
        "import heapq\n",
        "INF=1e9\n",
        "\n",
        "n,m,start=map(int, input().split())\n",
        "data=[[] for _ in range(n+1)]\n",
        "distant=[INF]*(n+1)\n",
        "\n",
        "for _ in range(m): \n",
        "  x,y,z=map(int, input().split())\n",
        "  data[x].append((y,z))\n",
        "\n",
        "def dijk(start):\n",
        "  q=[]\n",
        "  heapq.heappush(q,(0,start))\n",
        "  distant[start]=0\n",
        "  while q:\n",
        "    dist, now= heapq.heappop(q)\n",
        "    if distant[now] < dist: continue\n",
        "\n",
        "    for i in data[now]:\n",
        "      cost=dist+ i[1]\n",
        "      if cost < distant[i[0]]:\n",
        "        distant[i[0]]=cost\n",
        "        heapq.heappush(q,(cost,i[0]))\n",
        "\n",
        "dijk(start)\n",
        "\n",
        "count=max_dist=0\n",
        "for i in distant:\n",
        "  if i != INF:\n",
        "    count+=1\n",
        "    max_dist=max(max_dist,i)\n",
        "\n",
        "print(count-1, max_dist)"
      ],
      "metadata": {
        "colab": {
          "base_uri": "https://localhost:8080/"
        },
        "id": "togdJPc_QjWq",
        "outputId": "df6e44c9-65ae-4c69-c5a1-c351781c8024"
      },
      "execution_count": null,
      "outputs": [
        {
          "output_type": "stream",
          "name": "stdout",
          "text": [
            "3 2 1\n",
            "1 2 4\n",
            "1 3 2\n",
            "2 4\n"
          ]
        }
      ]
    },
    {
      "cell_type": "markdown",
      "source": [
        "# X theory of graph"
      ],
      "metadata": {
        "id": "oT-_bnfoC6Ar"
      }
    },
    {
      "cell_type": "code",
      "source": [
        "def find_team(parent,x):\n",
        "  if parent[x] != x: find_team(parent, parent[x])\n",
        "  return parent[x]\n",
        "\n",
        "def union_team(parent, a, b):\n",
        "  a= find_team(parent,a)\n",
        "  b= find_team(parent,b)\n",
        "  if a<b: parent[b]=a\n",
        "  else: parent[a]=b\n",
        "\n",
        "n,m = map(int, input().split())\n",
        "parent=[0]* (n+1)\n",
        "for i in range(n+1):  parent[i]=i\n",
        "\n",
        "for _ in range(m):\n",
        "  x, a, b=map(int, input().split())\n",
        "  if x==0:  union_team(parent, a, b)\n",
        "  else: \n",
        "    if find_team(parent, a) == find_team(parent, b): print(\"YES\")\n",
        "    else: print(\"NO\")"
      ],
      "metadata": {
        "colab": {
          "base_uri": "https://localhost:8080/"
        },
        "id": "VO-SpmE2YTxB",
        "outputId": "7231dbdc-0f70-46b8-f8b5-dcdd0b43c3cd"
      },
      "execution_count": null,
      "outputs": [
        {
          "name": "stdout",
          "output_type": "stream",
          "text": [
            "7 8\n",
            "0 1 3\n",
            "1 1 7\n",
            "NO\n",
            "1 7 1\n",
            "NO\n",
            "0 3 4\n",
            "0 1 1\n",
            "1 1 1\n",
            "YES\n",
            "0 4 2\n",
            "0 7 6\n"
          ]
        }
      ]
    },
    {
      "cell_type": "code",
      "source": [
        "import sys\n",
        "input = sys.stdin.readline\n",
        "\n",
        "def find_parent(x):\n",
        "    if parent[x]!=x: parent[x] = find_parent(parent[x])\n",
        "    return parent[x]\n",
        "\n",
        "def union_parent(a, b):\n",
        "    a=find_parent(a)\n",
        "    b=find_parent(b)\n",
        "    if a==b: return\n",
        "    if rank[a] < rank[b]: parent[b]=a\n",
        "    elif rank[a] > rank[b]: parent[a]=b\n",
        "    else:\n",
        "      parent[a]=b\n",
        "      rank[b]+=1\n",
        "\n",
        "n, m = map(int, input().split())\n",
        "roads= []\n",
        "parent = [i for i in range(n+1)]\n",
        "rank=[0]*(n+1)\n",
        "\n",
        "for _ in range(m): roads.append(tuple(map(int,input().split())))\n",
        "\n",
        "roads.sort(key=lambda data : data[2])\n",
        "result=0\n",
        "cost=0\n",
        "for i in roads:\n",
        "    if find_parent(i[0]) != find_parent(i[1]):\n",
        "        union_parent(i[0],i[1])\n",
        "        result+=i[2]\n",
        "        cost=i[2]\n",
        "\n",
        "        \n",
        "print(result-cost)"
      ],
      "metadata": {
        "colab": {
          "base_uri": "https://localhost:8080/"
        },
        "id": "3rpoy0p8a7uU",
        "outputId": "6f24ddf3-5796-433f-da9e-150f6b69631f"
      },
      "execution_count": null,
      "outputs": [
        {
          "output_type": "stream",
          "name": "stdout",
          "text": [
            "7 12\n",
            "1 2 3\n",
            "1 3 2\n",
            "3 2 1\n",
            "2 5 2\n",
            "3 4 4\n",
            "7 3 6\n",
            "5 1 5\n",
            "1 6 2\n",
            "6 4 1\n",
            "6 5 3\n",
            "4 5 3\n",
            "6 7 4\n",
            "19\n"
          ]
        }
      ]
    },
    {
      "cell_type": "code",
      "source": [
        "import sys\n",
        "\n",
        "input = sys.stdin.readline\n",
        "\n",
        "\n",
        "def find(x):\n",
        "    if x != parent[x]:\n",
        "        parent[x] = find(parent[x])\n",
        "    return parent[x]\n",
        "\n",
        "\n",
        "def union_(a, b):\n",
        "    a = find(a)\n",
        "    b = find(b)\n",
        "\n",
        "    # 이미 부모가 같다면 리턴\n",
        "    if a == b:\n",
        "        return\n",
        "\n",
        "    if rank[a] > rank[b]:\n",
        "        parent[b] = a\n",
        "    elif rank[a] < rank[b]:\n",
        "        parent[a] = b\n",
        "    else:\n",
        "        parent[a] = b\n",
        "        rank[b] += 1\n",
        "\n",
        "\n",
        "N, M = map(int, input().split())\n",
        "\n",
        "graph = []\n",
        "parent = [i for i in range(N + 1)]  # 부모를 저장\n",
        "rank = [0] * (N + 1)  # 각 노드마다 랭크를 저장\n",
        "for i in range(M):\n",
        "    a, b, cost = map(int, input().split())\n",
        "    graph.append((a, b, cost))\n",
        "\n",
        "graph.sort(key=lambda x: x[2])  # 마을의 비용을 오름차순으로 정렬\n",
        "ans = 0  # 연결된 마을 길이의 합\n",
        "end_v = 0  # 마지막에 연결된 마을 길이를 저장\n",
        "for i in graph:\n",
        "\n",
        "    if find(i[0]) != find(i[1]):\n",
        "        union_(i[0], i[1])\n",
        "        ans += i[2]  # 마을의 연결 비용들을 계속 더해주고\n",
        "        end_v = i[2]  # 마지막에 연결된 마을 연결 비용을 저장\n",
        "\n",
        "print(ans - end_v)  # 마지막에 연결된 연결 비용만 빼준 체 출력"
      ],
      "metadata": {
        "colab": {
          "base_uri": "https://localhost:8080/",
          "height": 234
        },
        "id": "xCxiAbUbIzZg",
        "outputId": "d8466708-ccfb-4ee8-ade2-f924260ef55b"
      },
      "execution_count": null,
      "outputs": [
        {
          "output_type": "error",
          "ename": "ValueError",
          "evalue": "ignored",
          "traceback": [
            "\u001b[0;31m---------------------------------------------------------------------------\u001b[0m",
            "\u001b[0;31mValueError\u001b[0m                                Traceback (most recent call last)",
            "\u001b[0;32m<ipython-input-4-c120ae9cb5df>\u001b[0m in \u001b[0;36m<cell line: 24>\u001b[0;34m()\u001b[0m\n\u001b[1;32m     22\u001b[0m \u001b[0;34m\u001b[0m\u001b[0m\n\u001b[1;32m     23\u001b[0m \u001b[0;34m\u001b[0m\u001b[0m\n\u001b[0;32m---> 24\u001b[0;31m \u001b[0mN\u001b[0m\u001b[0;34m,\u001b[0m \u001b[0mM\u001b[0m \u001b[0;34m=\u001b[0m \u001b[0mmap\u001b[0m\u001b[0;34m(\u001b[0m\u001b[0mint\u001b[0m\u001b[0;34m,\u001b[0m \u001b[0minput\u001b[0m\u001b[0;34m(\u001b[0m\u001b[0;34m)\u001b[0m\u001b[0;34m.\u001b[0m\u001b[0msplit\u001b[0m\u001b[0;34m(\u001b[0m\u001b[0;34m)\u001b[0m\u001b[0;34m)\u001b[0m\u001b[0;34m\u001b[0m\u001b[0;34m\u001b[0m\u001b[0m\n\u001b[0m\u001b[1;32m     25\u001b[0m \u001b[0;34m\u001b[0m\u001b[0m\n\u001b[1;32m     26\u001b[0m \u001b[0mgraph\u001b[0m \u001b[0;34m=\u001b[0m \u001b[0;34m[\u001b[0m\u001b[0;34m]\u001b[0m\u001b[0;34m\u001b[0m\u001b[0;34m\u001b[0m\u001b[0m\n",
            "\u001b[0;31mValueError\u001b[0m: not enough values to unpack (expected 2, got 0)"
          ]
        }
      ]
    },
    {
      "cell_type": "code",
      "source": [
        "from collections import deque\n",
        "n=int(input())\n",
        "lead=[[] for _ in range(n+1)]\n",
        "cost=[0] * (n+1)\n",
        "indegree=[0]*(n+1)\n",
        "res=[0] * (n+1)\n",
        "q=deque()\n",
        "\n",
        "\n",
        "for i in range(1,n+1):\n",
        "  temp=list(map(int,input().split()))\n",
        "  cost[i]=temp.pop(0)  \n",
        "  lead[i]=temp[:-1]\n",
        "  #for j in temp[:-1]: lead[j].append(i)\n",
        "  indegree[i]=len(temp[:-1])\n",
        "\n",
        "for k in range(1, len(lead)):#[1,3]\n",
        "  for j in lead[k]:# 1 -> 3\n",
        "    for i in lead[k]: # 1 -> 3\n",
        "      if j in lead[i]: \n",
        "        lead[k].remove(j)\n",
        "        indegree[k]-=1\n",
        "\n",
        "for i in range(1,n+1):  #set indegree\n",
        "  if indegree[i]==0: \n",
        "    q.append(i)\n",
        "\n",
        "while q: #main function\n",
        "  now=q.popleft()\n",
        "  res[now]+=cost[now]\n",
        "  #자기 자신에게 자기 비용 더해주기\n",
        "  for i in range(1,len(lead)):\n",
        "    if now in lead[i]: #1이 있는 케이스에선 \n",
        "      res[i] += res[now] #\n",
        "      indegree[i]-=1\n",
        "      if indegree[i]==0:  q.append(i)\n",
        "for i in res[1:]: print(i)"
      ],
      "metadata": {
        "colab": {
          "base_uri": "https://localhost:8080/"
        },
        "id": "TNL7G0j47jTP",
        "outputId": "7f802498-f973-4712-c557-9153cb114802"
      },
      "execution_count": null,
      "outputs": [
        {
          "output_type": "stream",
          "name": "stdout",
          "text": [
            "5\n",
            "10 -1\n",
            "10 1 -1\n",
            "4 1 -1\n",
            "4 3 1 -1\n",
            "3 3 -1\n",
            "10\n",
            "20\n",
            "14\n",
            "18\n",
            "17\n"
          ]
        }
      ]
    },
    {
      "cell_type": "markdown",
      "source": [
        "#XI 그리디 알고리즘 문제"
      ],
      "metadata": {
        "id": "sMSngRBVErqV"
      }
    },
    {
      "cell_type": "code",
      "source": [
        "n=int(input())\n",
        "person=list(map(int, input().split()))\n",
        "person.sort(reverse=True)\n",
        "count=0\n",
        "\n",
        "\n",
        "while person:\n",
        "  head=person.pop(0)\n",
        "  if len(person) < (head-1): break\n",
        "  person=person[head-1:] #[2,2,2,1]\n",
        "  count+=1\n",
        "\n",
        "print(count)"
      ],
      "metadata": {
        "id": "qwPdbSYtE0J-"
      },
      "execution_count": null,
      "outputs": []
    },
    {
      "cell_type": "code",
      "source": [
        "n=input()\n",
        "res=1\n",
        "for i in n:\n",
        "  if i != \"0\": res*=int(i)\n",
        "\n",
        "print(res)"
      ],
      "metadata": {
        "colab": {
          "base_uri": "https://localhost:8080/"
        },
        "id": "pymDY0z8HyN_",
        "outputId": "d577e3bf-4d43-49f1-f918-210311760ded"
      },
      "execution_count": null,
      "outputs": [
        {
          "output_type": "stream",
          "name": "stdout",
          "text": [
            "567\n",
            "210\n"
          ]
        }
      ]
    },
    {
      "cell_type": "code",
      "source": [
        "n=input()\n",
        "res=1\n",
        "for i in n:\n",
        "  if i != \"0\": res*=int(i)\n",
        "\n",
        "print(res)"
      ],
      "metadata": {
        "colab": {
          "base_uri": "https://localhost:8080/"
        },
        "id": "JvN3GdpnL1Py",
        "outputId": "2dea7099-5445-4882-c447-574052ca4e9e"
      },
      "execution_count": null,
      "outputs": [
        {
          "output_type": "stream",
          "name": "stdout",
          "text": [
            "02984\n",
            "0\n",
            "2\n",
            "9\n",
            "8\n",
            "4\n",
            "576\n"
          ]
        }
      ]
    },
    {
      "cell_type": "code",
      "source": [
        "s=input()\n",
        "data=[]\n",
        "for i in s:\n",
        "  if len(data) > 0 and data[-1] == i: continue\n",
        "  data.append(i)\n",
        "\n",
        "count_1=data.count(\"1\")\n",
        "if len(data)-count_1 > count_1: #1이 더 적다면 \n",
        "  print(count_1)\n",
        "else: \n",
        "  print(len(data)-count_1)"
      ],
      "metadata": {
        "colab": {
          "base_uri": "https://localhost:8080/"
        },
        "id": "bvHupKx1NWzA",
        "outputId": "3bce300a-d48f-4766-8c89-075a21d62ba8"
      },
      "execution_count": null,
      "outputs": [
        {
          "output_type": "stream",
          "name": "stdout",
          "text": [
            "00111001000\n",
            "2\n"
          ]
        }
      ]
    },
    {
      "cell_type": "code",
      "source": [
        "n=int(input())\n",
        "coins=list(map(int, input().split()))\n",
        "coins.sort(reverse=True)\n",
        "bool_=True\n",
        "res=0\n",
        "\n",
        "while bool_:\n",
        "  res+=1\n",
        "  now=0\n",
        "  for coin in coins:\n",
        "    if coin + now > res: continue\n",
        "    elif coin + now == res: \n",
        "      now+=coin\n",
        "      break\n",
        "    else: now += coin\n",
        "\n",
        "  if now != res: bool_=False\n",
        "\n",
        "print(res)"
      ],
      "metadata": {
        "colab": {
          "base_uri": "https://localhost:8080/"
        },
        "id": "x1VZYu7HRBTA",
        "outputId": "da7f9625-b6db-4842-91f2-b6127605b43a"
      },
      "execution_count": null,
      "outputs": [
        {
          "output_type": "stream",
          "name": "stdout",
          "text": [
            "8\n"
          ]
        }
      ]
    },
    {
      "cell_type": "code",
      "source": [
        "n,m=map(int,input().split())\n",
        "weight=list(map(int,input().split()))\n",
        "case_=0\n",
        "\n",
        "while weight:\n",
        "  select=weight.pop(0)\n",
        "  for i in weight:\n",
        "    if select != i: case_+=1\n",
        "\n",
        "print(case_)"
      ],
      "metadata": {
        "colab": {
          "base_uri": "https://localhost:8080/"
        },
        "id": "ULHp0SnfUXGo",
        "outputId": "075be78a-3635-4445-9ee4-c6fee359956e"
      },
      "execution_count": null,
      "outputs": [
        {
          "output_type": "stream",
          "name": "stdout",
          "text": [
            "5 3\n",
            "1 3 2 3 2\n",
            "8\n"
          ]
        }
      ]
    },
    {
      "cell_type": "code",
      "source": [
        "import heapq\n",
        "def solution(food_times, k):\n",
        "    if sum(food_times) <=k:\n",
        "        return -1\n",
        "    \n",
        "    q=[]\n",
        "    for i in range(len(food_times)):\n",
        "        heapq.heappush(q, (food_times[i], i+1))\n",
        "        \n",
        "    sum_value=0\n",
        "    previous=0\n",
        "    length=len(food_times)\n",
        "    \n",
        "    while sum_value+((q[0][0] - previous) * length) <= k:\n",
        "        now = heapq.heappop(q)[0]\n",
        "        sum_value += (now - previous)*length\n",
        "        length-=1\n",
        "        previous=now\n",
        "    result=sorted(q, key= lambda x:x[1])\n",
        "    return result[(k-sum_value) % length][1]"
      ],
      "metadata": {
        "colab": {
          "base_uri": "https://localhost:8080/"
        },
        "id": "zqSORBBfZLxI",
        "outputId": "0f888bcc-40ff-4be0-e582-232f209e59b2"
      },
      "execution_count": null,
      "outputs": [
        {
          "output_type": "stream",
          "name": "stdout",
          "text": [
            "2\n"
          ]
        }
      ]
    },
    {
      "cell_type": "markdown",
      "source": [
        "# XII 구현 문제"
      ],
      "metadata": {
        "id": "T2LUIGkhYLhS"
      }
    },
    {
      "cell_type": "code",
      "source": [
        "n=input()\n",
        "data=[0,0]\n",
        "head=n[:(len(n)//2)]; tail=n[(len(n)//2):]\n",
        "\n",
        "for i in range(len(n)//2):\n",
        "  data[0]+=int(head[i])\n",
        "  data[1]+=int(tail[i])\n",
        "\n",
        "if data[0] != data[1]: print(\"READY\")\n",
        "else: print(\"LUCKY\")"
      ],
      "metadata": {
        "colab": {
          "base_uri": "https://localhost:8080/"
        },
        "id": "l6d39JFyYOn0",
        "outputId": "f694afb3-00d5-475c-bff8-8fcb1c90e9f1"
      },
      "execution_count": null,
      "outputs": [
        {
          "output_type": "stream",
          "name": "stdout",
          "text": [
            "7755\n",
            "READY\n"
          ]
        }
      ]
    },
    {
      "cell_type": "code",
      "source": [
        "n=input()\n",
        "data=[]\n",
        "temp=0\n",
        "for i in n:\n",
        "  if i.isdigit(): temp+=int(i)\n",
        "  else: data.append(i)\n",
        "data.sort()\n",
        "data.append(str(temp))\n",
        "\n",
        "print(\"\".join(data))"
      ],
      "metadata": {
        "colab": {
          "base_uri": "https://localhost:8080/"
        },
        "id": "K3Yu3K27eWLT",
        "outputId": "f23d437c-57f7-4213-cd0c-469f39998e20"
      },
      "execution_count": null,
      "outputs": [
        {
          "output_type": "stream",
          "name": "stdout",
          "text": [
            "K1KA5CB7\n",
            "ABCKK13\n"
          ]
        }
      ]
    },
    {
      "cell_type": "code",
      "source": [
        "#10/#9\n",
        "def solution(s):\n",
        "  result=[]\n",
        "  while(s):\n",
        "    for l in range(1, (len(s)//2)+1):\n",
        "      if s[:l] == s[l:2*l]: \n",
        "        if l==1: result.append(s[:l])\n",
        "        else:  result.append(str(2 * l) + s[:l])\n",
        "        s=s[2*l:]\n",
        "      else:\n",
        "        result.append(s[0])\n",
        "        s=s[1:]\n",
        "  return(\"\".join(result))\n",
        "\n",
        "solution(\"aabbaacc\")"
      ],
      "metadata": {
        "colab": {
          "base_uri": "https://localhost:8080/",
          "height": 36
        },
        "id": "qTCaB0KTg7rq",
        "outputId": "726f7e43-6046-432b-fd25-5599b019ee47"
      },
      "execution_count": null,
      "outputs": [
        {
          "output_type": "execute_result",
          "data": {
            "text/plain": [
              "'abbaac'"
            ],
            "application/vnd.google.colaboratory.intrinsic+json": {
              "type": "string"
            }
          },
          "metadata": {},
          "execution_count": 29
        }
      ]
    },
    {
      "cell_type": "code",
      "source": [
        "import time\n",
        "n=int(input()) #보드의 크기\n",
        "k=int(input()) #사과의 개수\n",
        "apple=[]\n",
        "direction=[]\n",
        "for i in range(k):\n",
        "  apple.append(tuple(map(int, input().split()))) #사과의 위치\n",
        "\n",
        "l=int(input())\n",
        "for i in range(l):\n",
        "  direction.append(tuple(input().split()))\n",
        "\n",
        "dir_list=[(0,-1),(1,0),(0,1),(-1,0)]\n",
        "dir=1 #0:(0,-1) 상 1:(1,0) 우 2:(0,1) 하 3:(-1, 0) 좌 \n",
        "\n",
        "snake=[[1,1]] #뱀의 몸통\n",
        "head=snake[-1]\n",
        "time_=0\n",
        "#start_time=time.time()\n",
        "while head not in snake[:-1] and head[0] != n and head[1] != n and head[0] != 0 and head[1] != 0: #뱀이랑 부딪히면 끝 벽이랑 부딪히면 끝\n",
        "  #뱀의 이동\n",
        "  if apple[0] != head: \n",
        "    snake=snake[1:]\n",
        "  head[0]+=dir_list[(dir)%4][0];head[1]+=dir_list[(dir)%4][1]\n",
        "  snake.append(head)\n",
        "\n",
        "  #방향 전환\n",
        "  time_+=1\n",
        "  if direction:\n",
        "    if int(direction[0][0]) == time_: \n",
        "      if direction.pop(0)[1] == \"L\": dir-=1\n",
        "      else: dir += 1\n",
        "    \n",
        "print(time_)\n",
        "\n",
        "#end_time=time.time()\n",
        "#print(end_time-start_time)"
      ],
      "metadata": {
        "colab": {
          "base_uri": "https://localhost:8080/"
        },
        "id": "lqjiY1O8kzhs",
        "outputId": "870eea23-687c-4183-e99b-fb6498dfa346"
      },
      "execution_count": 1,
      "outputs": [
        {
          "output_type": "stream",
          "name": "stdout",
          "text": [
            "10\n",
            "4\n",
            "1 2\n",
            "1 3\n",
            "1 4\n",
            "1 5\n",
            "4\n",
            "8 D\n",
            "10 D\n",
            "11 D\n",
            "13 L\n",
            "21\n"
          ]
        }
      ]
    }
  ]
}