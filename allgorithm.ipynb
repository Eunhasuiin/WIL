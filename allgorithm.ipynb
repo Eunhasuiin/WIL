{
  "nbformat": 4,
  "nbformat_minor": 0,
  "metadata": {
    "colab": {
      "provenance": [],
      "authorship_tag": "ABX9TyMSCEFbEox5381pRYJL7lsr",
      "include_colab_link": true
    },
    "kernelspec": {
      "name": "python3",
      "display_name": "Python 3"
    },
    "language_info": {
      "name": "python"
    }
  },
  "cells": [
    {
      "cell_type": "markdown",
      "metadata": {
        "id": "view-in-github",
        "colab_type": "text"
      },
      "source": [
        "<a href=\"https://colab.research.google.com/github/Eunhasuiin/WIL/blob/algorithm/allgorithm.ipynb\" target=\"_parent\"><img src=\"https://colab.research.google.com/assets/colab-badge.svg\" alt=\"Open In Colab\"/></a>"
      ]
    },
    {
      "cell_type": "markdown",
      "source": [
        "# III 그리디 알고리즘"
      ],
      "metadata": {
        "id": "6V7Ld7zLNF6y"
      }
    },
    {
      "cell_type": "code",
      "execution_count": null,
      "metadata": {
        "colab": {
          "base_uri": "https://localhost:8080/"
        },
        "id": "XejkprN-cO8u",
        "outputId": "6d0e4d5e-d116-4369-cd94-c23ff9344292"
      },
      "outputs": [
        {
          "output_type": "stream",
          "name": "stdout",
          "text": [
            "5 8 3\n",
            "2 4 5 6 4\n",
            "46\n"
          ]
        }
      ],
      "source": [
        "#NO.I 큰 수의 법칙\n",
        "N,M,K=map(int,input().split()) #N is length of data M is Maximum cycle K is continuty of each data\n",
        "array=list(map(int,input().split()))\n",
        "\n",
        "array.sort() # for find max num\n",
        "res=0 #result\n",
        "\n",
        "while M:\n",
        "  for i in range(K):\n",
        "    if M==0: break\n",
        "    res+=array[-1] #sum max num\n",
        "    M-=1 #Check we used turn\n",
        "  if M==0: break\n",
        "  res+=array[-2] # when we use all of turn for sum max number, We should use second big number\n",
        "  M-=1 #Check we used turn\n",
        "\n",
        "print(res)"
      ]
    },
    {
      "cell_type": "code",
      "source": [
        "N,M,K=map(int,input().split()) #N is length of data M is Maximum cycle K is continuty of each data\n",
        "array=list(map(int,input().split()))\n",
        "\n",
        "array.sort() # for find max num\n",
        "res=0 #result\n",
        "temp=divmod(M,K)[0]\n",
        "res=array[-2]*temp + array[-1]*(M-temp)\n",
        "\n",
        "print(res)"
      ],
      "metadata": {
        "colab": {
          "base_uri": "https://localhost:8080/"
        },
        "id": "Y8c8pRUPDo8l",
        "outputId": "0ada6df6-8c03-4007-f0b3-f9b2ea3d4a13"
      },
      "execution_count": null,
      "outputs": [
        {
          "output_type": "stream",
          "name": "stdout",
          "text": [
            "5 8 3\n",
            "2 4 5 6 4\n",
            "46\n"
          ]
        }
      ]
    },
    {
      "cell_type": "code",
      "source": [
        "# 2-3 숫자 카드 게임\n",
        "M,N=map(int,input().split())\n",
        "\n",
        "temp=[] #list for containing minimum of each column\n",
        "for i in range(M):\n",
        "  temp.append(min(list(map(int,input().split())))) #recieve each column and get minimum one and insert it to temp\n",
        "\n",
        "print(max(temp)) #print max one when it from the smallest value of each column"
      ],
      "metadata": {
        "colab": {
          "base_uri": "https://localhost:8080/"
        },
        "id": "eGLXtlgBfzTe",
        "outputId": "c702d1eb-91a6-4f3a-f7f0-5ea1bd804cdb"
      },
      "execution_count": null,
      "outputs": [
        {
          "output_type": "stream",
          "name": "stdout",
          "text": [
            "2 4\n",
            "7 3 1 8\n",
            "3 3 3 4\n",
            "3\n"
          ]
        }
      ]
    },
    {
      "cell_type": "code",
      "source": [
        "N,K=map(int, input().split())\n",
        "count=0\n",
        "while N:\n",
        "  if N % K >0: \n",
        "    N-=1\n",
        "    count+=1\n",
        "  else: \n",
        "    N//=K\n",
        "    count+=1\n",
        "\n",
        "print(count-1)"
      ],
      "metadata": {
        "colab": {
          "base_uri": "https://localhost:8080/"
        },
        "id": "W5apU981meon",
        "outputId": "db1ffcb9-6025-4f87-c0c9-cf0a739cf0a3"
      },
      "execution_count": null,
      "outputs": [
        {
          "output_type": "stream",
          "name": "stdout",
          "text": [
            "46 2\n",
            "8\n"
          ]
        }
      ]
    },
    {
      "cell_type": "code",
      "source": [
        "N,K=map(int, input().split())\n",
        "count=0\n",
        "while N >1:\n",
        "  if N % K > 0:\n",
        "    temp=divmod(N,K)\n",
        "    count+=temp[1]\n",
        "    N-=temp[1]\n",
        "  else:\n",
        "    N/=K\n",
        "    count+=1\n",
        "\n",
        "print(count)"
      ],
      "metadata": {
        "colab": {
          "base_uri": "https://localhost:8080/"
        },
        "id": "f4dnY5OToOc2",
        "outputId": "8fc118e0-6a4e-493c-95b1-bd4b16f2e18a"
      },
      "execution_count": null,
      "outputs": [
        {
          "output_type": "stream",
          "name": "stdout",
          "text": [
            "25 5\n",
            "2\n"
          ]
        }
      ]
    },
    {
      "cell_type": "markdown",
      "source": [
        "# IV 구현"
      ],
      "metadata": {
        "id": "_oTDQNMnNLdJ"
      }
    },
    {
      "cell_type": "code",
      "source": [
        "#왕실의 나이트\n",
        "data= input()\n",
        "data= ((int(ord(data[0]))-int(ord('a'))+1), int(data[1]))\n",
        "\n",
        "\n",
        "move=[(1,2), (2,1), (-1,2), (-2,1), (1,-2), (2,-1), (-1,-2), (-2,-1)]\n",
        "count=0\n",
        "\n",
        "for (i,j) in move:\n",
        "  temp_x=data[0] + i\n",
        "  temp_y=data[1] + j\n",
        "\n",
        "  if temp_x < 9 and temp_x > 0 and temp_y < 9 and temp_y > 0: count+=1\n",
        "\n",
        "print(count)   "
      ],
      "metadata": {
        "colab": {
          "base_uri": "https://localhost:8080/"
        },
        "id": "FcrfyzejNOpX",
        "outputId": "c73dca94-e12e-4e81-8fef-ddc5e64025f2"
      },
      "execution_count": null,
      "outputs": [
        {
          "output_type": "stream",
          "name": "stdout",
          "text": [
            "a1\n",
            "2\n"
          ]
        }
      ]
    },
    {
      "cell_type": "code",
      "source": [
        "data= list(map(int, input().split()))\n",
        "x, y, sight=map(int, input().split())\n",
        "now=(x,y)\n",
        "\n",
        "#변수 세팅\n",
        "dir=[(0,1), (1,0), (0,-1), (-1,0)]\n",
        "table=[]\n",
        "count=0\n",
        "\n",
        "for i in range(data[1]):\n",
        "  table.append(list(map(int,input().split())))\n",
        "\n",
        "def turn(): #회전하는 함수\n",
        "  global sight\n",
        "  if sight < 1: sight=3\n",
        "  else: sight -= 1\n",
        "\n",
        "\n",
        "#simulation start\n",
        "while 1:\n",
        "  turn_count=0\n",
        "#step I\n",
        "#step II\n",
        "  if table[now[0]][now[1]]!=1: #현 위치가 방문하지 않은 장소였다면\n",
        "    count+=1                   #1을 더해주고\n",
        "    table[now[0]][now[1]]=1    #테이블을 방문처리 해줍니다.\n",
        "\n",
        "  nx= now[0] + dir[sight][0]\n",
        "  ny= now[1] + dir[sight][1]\n",
        "\n",
        "  if table[nx][ny] != 0: #만약 앞 테이블이 방문한 적 있거나 바다라면\n",
        "    turn()\n",
        "    continue;\n",
        "\n",
        "  now=(nx,ny)\n",
        "#step III\n",
        "  while turn_count < 5: #사방을 확인해줍니다.\n",
        "    turn()\n",
        "    turn_count+=1\n",
        "    nx= now[0] + dir[sight][0]\n",
        "    ny= now[1] + dir[sight][1]\n",
        "    if table[nx][ny] != 1: #만약 방문한 적 없는 위치가 존재한다면 이하는 작동할 이유가 없으니 최상단으로 돌아갑니다.\n",
        "      continue\n",
        "\n",
        "  nx= now[0] - dir[sight][0]\n",
        "  ny= now[1] - dir[sight][1]\n",
        "  if table[nx][ny]==1: \n",
        "    count+=1 #이 케이스에선 최상단으로 올라가지 않으므로 1로 마무리 밑 움직인 횟수를 추가로 체크해줍니다.\n",
        "    table[now[0]][now[1]]=1\n",
        "    break #뒤를 봤는데 바다이거나 방문한 적 있다면 멈춰줍니다.\n",
        "  now=(nx,ny)\n",
        "    \n",
        "print(count)"
      ],
      "metadata": {
        "colab": {
          "base_uri": "https://localhost:8080/"
        },
        "id": "LgkFN7TEUZVY",
        "outputId": "d89b930a-d5f4-4393-c501-d0c8f0d09fe5"
      },
      "execution_count": null,
      "outputs": [
        {
          "output_type": "stream",
          "name": "stdout",
          "text": [
            "4 4\n",
            "1 1 0\n",
            "1 1 1 1\n",
            "1 0 0 1\n",
            "1 1 0 1\n",
            "1 1 1 1\n",
            "3\n"
          ]
        }
      ]
    },
    {
      "cell_type": "code",
      "source": [
        "data= list(map(int, input().split()))\n",
        "x, y, sight=map(int, input().split())\n",
        "now=(x,y)\n",
        "\n",
        "#변수 세팅\n",
        "dir=[(0,1), (1,0), (0,-1), (-1,0)]\n",
        "table=[]\n",
        "count=0\n",
        "queue = []\n",
        "\n",
        "for i in range(data[1]):\n",
        "  table.append(list(map(int,input().split())))\n",
        "#simulation start\n",
        "while 1:\n",
        "  break_= 0\n",
        "#step I\n",
        "#step II\n",
        "  print(\"\\n now is {},{}\".format(now[0],now[1]))\n",
        "  \n",
        "  if table[now[0]][now[1]]!=1: #현 위치가 방문하지 않은 장소였다면\n",
        "    count+=1                   #1을 더해주고\n",
        "    table[now[0]][now[1]]=1    #테이블을 방문처리 해줍니다.\n",
        "\n",
        "    for i in range(4):\n",
        "      nx= now[0] + dir[i][0]\n",
        "      ny= now[1] + dir[i][1]\n",
        "      #print(\"1st phase: {}\".format(table[nx][ny]))\n",
        "      if table[nx][ny] != 0: #만약 앞 테이블이 방문한 적 있거나 바다라면\n",
        "        continue\n",
        "      queue.append((now[0],now[1],i))\n",
        "      print(queue)\n",
        "  #print(table,end='\\n')\n",
        "\n",
        "  temp=queue.pop(0)\n",
        "  nx=temp[0] + dir[temp[2]][0]; ny=temp[1] + dir[temp[2]][1]; sight=temp[2]\n",
        "  now=(nx,ny)\n",
        "\n",
        "#step III\n",
        "  for i in range(4): #사방을 확인해줍니다.\n",
        "    nx= now[0] + dir[i][0]\n",
        "    ny= now[1] + dir[i][1]\n",
        "    #print(\"2nd phase: {}\".format(table[nx][ny]))\n",
        "    if table[nx][ny] != 1: #만약 방문한 적 없는 위치가 존재한다면 이하는 작동할 이유가 없으니 최상단으로 돌아갑니다.\n",
        "      break_=1\n",
        "      break\n",
        "  if break_ != 0: continue\n",
        "\n",
        "  if table[now[0]][now[1]]!=1: #현 위치가 방문하지 않은 장소였다면\n",
        "    count+=1                   #1을 더해주고\n",
        "    table[now[0]][now[1]]=1    #테이블을 방문처리 해줍니다.\n",
        "\n",
        "  nx= now[0] - dir[sight][0]\n",
        "  ny= now[1] - dir[sight][1]\n",
        "  if table[nx][ny]==1 and not queue: break #뒤를 봤는데 바다이거나 방문한 적 있다면 멈춰줍니다.\n",
        "  \n",
        "\n",
        "print(count)\n"
      ],
      "metadata": {
        "colab": {
          "base_uri": "https://localhost:8080/"
        },
        "id": "FQ0-_CSJwgcI",
        "outputId": "cae654ef-8b51-4bc7-e831-19e0d0605cef"
      },
      "execution_count": 30,
      "outputs": [
        {
          "output_type": "stream",
          "name": "stdout",
          "text": [
            "5 5\n",
            "1 1 0\n",
            "1 1 1 1 1\n",
            "1 0 0 0 1\n",
            "1 1 0 1 1\n",
            "1 1 0 1 1\n",
            "1 1 1 1 1\n",
            "\n",
            " now is 1,1\n",
            "1st phase: 0\n",
            "[(1, 1, 0)]\n",
            "1st phase: 1\n",
            "1st phase: 1\n",
            "1st phase: 1\n",
            "[[1, 1, 1, 1, 1], [1, 1, 0, 0, 1], [1, 1, 0, 1, 1], [1, 1, 0, 1, 1], [1, 1, 1, 1, 1]]\n",
            "2nd phase: 0\n",
            "\n",
            " now is 1,2\n",
            "1st phase: 0\n",
            "[(1, 2, 0)]\n",
            "1st phase: 0\n",
            "[(1, 2, 0), (1, 2, 1)]\n",
            "1st phase: 1\n",
            "1st phase: 1\n",
            "[[1, 1, 1, 1, 1], [1, 1, 1, 0, 1], [1, 1, 0, 1, 1], [1, 1, 0, 1, 1], [1, 1, 1, 1, 1]]\n",
            "2nd phase: 1\n",
            "2nd phase: 1\n",
            "2nd phase: 1\n",
            "2nd phase: 1\n",
            "\n",
            " now is 1,3\n",
            "[[1, 1, 1, 1, 1], [1, 1, 1, 1, 1], [1, 1, 0, 1, 1], [1, 1, 0, 1, 1], [1, 1, 1, 1, 1]]\n",
            "2nd phase: 1\n",
            "2nd phase: 0\n",
            "\n",
            " now is 2,2\n",
            "1st phase: 1\n",
            "1st phase: 0\n",
            "[(2, 2, 1)]\n",
            "1st phase: 1\n",
            "1st phase: 1\n",
            "[[1, 1, 1, 1, 1], [1, 1, 1, 1, 1], [1, 1, 1, 1, 1], [1, 1, 0, 1, 1], [1, 1, 1, 1, 1]]\n",
            "2nd phase: 1\n",
            "2nd phase: 1\n",
            "2nd phase: 1\n",
            "2nd phase: 1\n",
            "5\n"
          ]
        }
      ]
    }
  ]
}